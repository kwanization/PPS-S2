{
  "cells": [
    {
      "cell_type": "markdown",
      "metadata": {
        "id": "ZoU9uK6jWuJL"
      },
      "source": [
        "# Occupation"
      ]
    },
    {
      "cell_type": "markdown",
      "metadata": {
        "id": "bseqoNqYWuJM"
      },
      "source": [
        "### Introduction:\n",
        "\n",
        "Special thanks to: https://github.com/justmarkham for sharing the dataset and materials.\n",
        "\n",
        "### Step 1. Import the necessary libraries"
      ]
    },
    {
      "cell_type": "code",
      "execution_count": 1,
      "metadata": {
        "id": "2ndGHW3aWuJM"
      },
      "outputs": [],
      "source": [
        "import pandas as pd"
      ]
    },
    {
      "cell_type": "markdown",
      "metadata": {
        "id": "Kw4yvMIRWuJM"
      },
      "source": [
        "### Step 2. Import the dataset from this [address](https://raw.githubusercontent.com/justmarkham/DAT8/master/data/u.user)."
      ]
    },
    {
      "cell_type": "markdown",
      "metadata": {
        "id": "VNqbX4rWWuJM"
      },
      "source": [
        "### Step 3. Assign it to a variable called users."
      ]
    },
    {
      "cell_type": "code",
      "execution_count": 4,
      "metadata": {
        "id": "kTVTNDhtWuJM"
      },
      "outputs": [],
      "source": [
        "url = 'https://raw.githubusercontent.com/justmarkham/DAT8/master/data/u.user'\n",
        "users = pd.read_csv(url, sep='|')"
      ]
    },
    {
      "cell_type": "markdown",
      "metadata": {
        "id": "XlCGX-6LWuJM"
      },
      "source": [
        "### Step 4. Discover what is the mean age per occupation"
      ]
    },
    {
      "cell_type": "code",
      "execution_count": 10,
      "metadata": {
        "colab": {
          "base_uri": "https://localhost:8080/"
        },
        "id": "z5DU6Aw-WuJM",
        "outputId": "87b61f62-e1d2-40ec-ec0d-7ca56bcf0664"
      },
      "outputs": [
        {
          "output_type": "stream",
          "name": "stdout",
          "text": [
            "occupation\n",
            "administrator    39.0\n",
            "artist           31.0\n",
            "doctor           44.0\n",
            "educator         42.0\n",
            "engineer         36.0\n",
            "entertainment    29.0\n",
            "executive        39.0\n",
            "healthcare       42.0\n",
            "homemaker        33.0\n",
            "lawyer           37.0\n",
            "librarian        40.0\n",
            "marketing        38.0\n",
            "none             27.0\n",
            "other            35.0\n",
            "programmer       33.0\n",
            "retired          63.0\n",
            "salesman         36.0\n",
            "scientist        36.0\n",
            "student          22.0\n",
            "technician       33.0\n",
            "writer           36.0\n",
            "Name: age, dtype: float64\n"
          ]
        }
      ],
      "source": [
        "mean_age_per_occupation = users.groupby('occupation')['age'].mean().round()\n",
        "print(mean_age_per_occupation)"
      ]
    },
    {
      "cell_type": "markdown",
      "metadata": {
        "id": "dZ06OnacWuJM"
      },
      "source": [
        "### Step 5. Discover the Male ratio per occupation and sort it from the most to the least"
      ]
    },
    {
      "cell_type": "code",
      "execution_count": 13,
      "metadata": {
        "colab": {
          "base_uri": "https://localhost:8080/"
        },
        "id": "MxVu712hWuJN",
        "outputId": "01c9b855-44ad-4057-a5bf-197bb87432b6"
      },
      "outputs": [
        {
          "output_type": "stream",
          "name": "stdout",
          "text": [
            "occupation\n",
            "doctor           1.000000\n",
            "engineer         0.970149\n",
            "technician       0.962963\n",
            "retired          0.928571\n",
            "programmer       0.909091\n",
            "executive        0.906250\n",
            "scientist        0.903226\n",
            "entertainment    0.888889\n",
            "lawyer           0.833333\n",
            "salesman         0.750000\n",
            "educator         0.726316\n",
            "student          0.693878\n",
            "other            0.657143\n",
            "marketing        0.615385\n",
            "writer           0.577778\n",
            "none             0.555556\n",
            "administrator    0.544304\n",
            "artist           0.535714\n",
            "librarian        0.431373\n",
            "healthcare       0.312500\n",
            "homemaker        0.142857\n",
            "Name: Male Ratio, dtype: float64\n"
          ]
        }
      ],
      "source": [
        "gender_occupation = users.groupby(['occupation', 'gender']).size().unstack(fill_value=0)\n",
        "gender_occupation['Male Ratio'] = gender_occupation['M'] / (gender_occupation['M'] + gender_occupation['F'])\n",
        "male_ratio = gender_occupation['Male Ratio'].sort_values(ascending=False)\n",
        "print(male_ratio)\n"
      ]
    },
    {
      "cell_type": "markdown",
      "metadata": {
        "id": "FMXksNsuWuJN"
      },
      "source": [
        "### Step 6. For each occupation, calculate the minimum and maximum ages"
      ]
    },
    {
      "cell_type": "code",
      "execution_count": 18,
      "metadata": {
        "colab": {
          "base_uri": "https://localhost:8080/"
        },
        "id": "ozTcqpNPWuJN",
        "outputId": "d67b5259-9a74-454d-8864-bedbd2cbfdce"
      },
      "outputs": [
        {
          "output_type": "stream",
          "name": "stdout",
          "text": [
            "               max  min\n",
            "occupation             \n",
            "administrator   70   21\n",
            "artist          48   19\n",
            "doctor          64   28\n",
            "educator        63   23\n",
            "engineer        70   22\n",
            "entertainment   50   15\n",
            "executive       69   22\n",
            "healthcare      62   22\n",
            "homemaker       50   20\n",
            "lawyer          53   21\n",
            "librarian       69   23\n",
            "marketing       55   24\n",
            "none            55   11\n",
            "other           64   13\n",
            "programmer      63   20\n",
            "retired         73   51\n",
            "salesman        66   18\n",
            "scientist       55   23\n",
            "student         42    7\n",
            "technician      55   21\n",
            "writer          60   18\n"
          ]
        }
      ],
      "source": [
        "age_max_min = users.groupby('occupation')['age'].agg(['max', 'min'])\n",
        "print(age_max_min)"
      ]
    },
    {
      "cell_type": "markdown",
      "metadata": {
        "id": "Qi7pnB5aWuJN"
      },
      "source": [
        "### Step 7. For each combination of occupation and gender, calculate the mean age"
      ]
    },
    {
      "cell_type": "code",
      "execution_count": 29,
      "metadata": {
        "colab": {
          "base_uri": "https://localhost:8080/"
        },
        "id": "RsYAhWnaWuJN",
        "outputId": "4bbb8599-70bf-4c0d-a64f-9c1cbcec13f9"
      },
      "outputs": [
        {
          "output_type": "stream",
          "name": "stdout",
          "text": [
            "occupation     gender\n",
            "administrator  F         41.0\n",
            "               M         37.0\n",
            "artist         F         30.0\n",
            "               M         32.0\n",
            "doctor         M         44.0\n",
            "educator       F         39.0\n",
            "               M         43.0\n",
            "engineer       F         30.0\n",
            "               M         37.0\n",
            "entertainment  F         31.0\n",
            "               M         29.0\n",
            "executive      F         44.0\n",
            "               M         38.0\n",
            "healthcare     F         40.0\n",
            "               M         45.0\n",
            "homemaker      F         34.0\n",
            "               M         23.0\n",
            "lawyer         F         40.0\n",
            "               M         36.0\n",
            "librarian      F         40.0\n",
            "               M         40.0\n",
            "marketing      F         37.0\n",
            "               M         38.0\n",
            "none           F         36.0\n",
            "               M         19.0\n",
            "other          F         35.0\n",
            "               M         34.0\n",
            "programmer     F         32.0\n",
            "               M         33.0\n",
            "retired        F         70.0\n",
            "               M         63.0\n",
            "salesman       F         27.0\n",
            "               M         39.0\n",
            "scientist      F         28.0\n",
            "               M         36.0\n",
            "student        F         21.0\n",
            "               M         23.0\n",
            "technician     F         38.0\n",
            "               M         33.0\n",
            "writer         F         38.0\n",
            "               M         35.0\n",
            "Name: age, dtype: float64\n"
          ]
        }
      ],
      "source": [
        "mean_age_occupation_gender = users.groupby(['occupation', 'gender'])['age'].mean().round()\n",
        "print(mean_age_occupation_gender)"
      ]
    },
    {
      "cell_type": "markdown",
      "metadata": {
        "id": "W1EyeFBkWuJN"
      },
      "source": [
        "### Step 8.  For each occupation present the percentage of women and men"
      ]
    },
    {
      "cell_type": "code",
      "execution_count": 32,
      "metadata": {
        "colab": {
          "base_uri": "https://localhost:8080/"
        },
        "id": "UIKXi_dAWuJN",
        "outputId": "b39bf854-451b-4b01-b30f-f0389100f46b"
      },
      "outputs": [
        {
          "output_type": "stream",
          "name": "stdout",
          "text": [
            "gender                 F           M\n",
            "occupation                          \n",
            "administrator  45.569620   54.430380\n",
            "artist         46.428571   53.571429\n",
            "doctor          0.000000  100.000000\n",
            "educator       27.368421   72.631579\n",
            "engineer        2.985075   97.014925\n",
            "entertainment  11.111111   88.888889\n",
            "executive       9.375000   90.625000\n",
            "healthcare     68.750000   31.250000\n",
            "homemaker      85.714286   14.285714\n",
            "lawyer         16.666667   83.333333\n",
            "librarian      56.862745   43.137255\n",
            "marketing      38.461538   61.538462\n",
            "none           44.444444   55.555556\n",
            "other          34.285714   65.714286\n",
            "programmer      9.090909   90.909091\n",
            "retired         7.142857   92.857143\n",
            "salesman       25.000000   75.000000\n",
            "scientist       9.677419   90.322581\n",
            "student        30.612245   69.387755\n",
            "technician      3.703704   96.296296\n",
            "writer         42.222222   57.777778\n"
          ]
        }
      ],
      "source": [
        "gender_occupation = users.groupby(['occupation', 'gender']).size().unstack(fill_value=0)\n",
        "gender_percentage = gender_occupation.div(gender_occupation.sum(axis=1), axis=0) * 100\n",
        "print(gender_percentage)"
      ]
    },
    {
      "cell_type": "code",
      "source": [],
      "metadata": {
        "id": "XtmSNhgwiA1P"
      },
      "execution_count": null,
      "outputs": []
    }
  ],
  "metadata": {
    "kernelspec": {
      "display_name": "Python 2",
      "language": "python",
      "name": "python2"
    },
    "language_info": {
      "codemirror_mode": {
        "name": "ipython",
        "version": 2
      },
      "file_extension": ".py",
      "mimetype": "text/x-python",
      "name": "python",
      "nbconvert_exporter": "python",
      "pygments_lexer": "ipython2",
      "version": "2.7.11"
    },
    "colab": {
      "provenance": []
    }
  },
  "nbformat": 4,
  "nbformat_minor": 0
}