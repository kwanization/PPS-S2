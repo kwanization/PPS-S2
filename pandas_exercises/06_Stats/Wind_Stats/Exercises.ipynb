{
  "cells": [
    {
      "cell_type": "markdown",
      "metadata": {
        "id": "view-in-github",
        "colab_type": "text"
      },
      "source": [
        "<a href=\"https://colab.research.google.com/github/kwanization/PPS-S2/blob/main/pandas_exercises/06_Stats/Wind_Stats/Exercises.ipynb\" target=\"_parent\"><img src=\"https://colab.research.google.com/assets/colab-badge.svg\" alt=\"Open In Colab\"/></a>"
      ]
    },
    {
      "cell_type": "markdown",
      "metadata": {
        "id": "HHPsyr2qYyXI"
      },
      "source": [
        "# Wind Statistics"
      ]
    },
    {
      "cell_type": "markdown",
      "metadata": {
        "id": "K9UOejyaYyXJ"
      },
      "source": [
        "### Introduction:\n",
        "\n",
        "The data have been modified to contain some missing values, identified by NaN.  \n",
        "Using pandas should make this exercise\n",
        "easier, in particular for the bonus question.\n",
        "\n",
        "You should be able to perform all of these operations without using\n",
        "a for loop or other looping construct.\n",
        "\n",
        "\n",
        "1. The data in 'wind.data' has the following format:"
      ]
    },
    {
      "cell_type": "code",
      "execution_count": null,
      "metadata": {
        "id": "uj4gi34RYyXJ",
        "outputId": "9bbb0f28-8590-4472-f81d-ff2904af3ebb"
      },
      "outputs": [
        {
          "data": {
            "text/plain": [
              "'\\nYr Mo Dy   RPT   VAL   ROS   KIL   SHA   BIR   DUB   CLA   MUL   CLO   BEL   MAL\\n61  1  1 15.04 14.96 13.17  9.29   NaN  9.87 13.67 10.25 10.83 12.58 18.50 15.04\\n61  1  2 14.71   NaN 10.83  6.50 12.62  7.67 11.50 10.04  9.79  9.67 17.54 13.83\\n61  1  3 18.50 16.88 12.33 10.13 11.17  6.17 11.25   NaN  8.50  7.67 12.75 12.71\\n'"
            ]
          },
          "execution_count": 434,
          "metadata": {},
          "output_type": "execute_result"
        }
      ],
      "source": [
        "\"\"\"\n",
        "Yr Mo Dy   RPT   VAL   ROS   KIL   SHA   BIR   DUB   CLA   MUL   CLO   BEL   MAL\n",
        "61  1  1 15.04 14.96 13.17  9.29   NaN  9.87 13.67 10.25 10.83 12.58 18.50 15.04\n",
        "61  1  2 14.71   NaN 10.83  6.50 12.62  7.67 11.50 10.04  9.79  9.67 17.54 13.83\n",
        "61  1  3 18.50 16.88 12.33 10.13 11.17  6.17 11.25   NaN  8.50  7.67 12.75 12.71\n",
        "\"\"\""
      ]
    },
    {
      "cell_type": "markdown",
      "metadata": {
        "id": "ysm0BShxYyXJ"
      },
      "source": [
        "   The first three columns are year, month and day.  The\n",
        "   remaining 12 columns are average windspeeds in knots at 12\n",
        "   locations in Ireland on that day.   \n",
        "\n",
        "   More information about the dataset go [here](wind.desc)."
      ]
    },
    {
      "cell_type": "markdown",
      "metadata": {
        "collapsed": false,
        "id": "KTsXA5yGYyXK"
      },
      "source": [
        "### Step 1. Import the necessary libraries"
      ]
    },
    {
      "cell_type": "code",
      "execution_count": 14,
      "metadata": {
        "id": "NVTfIXs4YyXK"
      },
      "outputs": [],
      "source": [
        "import pandas as pd\n",
        "import numpy as np"
      ]
    },
    {
      "cell_type": "markdown",
      "metadata": {
        "id": "W5gCnr0qYyXK"
      },
      "source": [
        "### Step 2. Import the dataset from this [address](https://raw.githubusercontent.com/guipsamora/pandas_exercises/master/06_Stats/Wind_Stats/wind.data)"
      ]
    },
    {
      "cell_type": "markdown",
      "metadata": {
        "id": "UMwT55AFYyXK"
      },
      "source": [
        "### Step 3. Assign it to a variable called data and replace the first 3 columns by a proper datetime index."
      ]
    },
    {
      "cell_type": "code",
      "execution_count": 15,
      "metadata": {
        "id": "mVn7lllnYyXK",
        "outputId": "e5efdfa0-ebaf-444c-86f8-5229e7aa96f9",
        "colab": {
          "base_uri": "https://localhost:8080/"
        }
      },
      "outputs": [
        {
          "output_type": "stream",
          "name": "stdout",
          "text": [
            "              RPT    VAL    ROS    KIL    SHA   BIR    DUB    CLA    MUL  \\\n",
            "Date                                                                       \n",
            "2061-01-01  15.04  14.96  13.17   9.29    NaN  9.87  13.67  10.25  10.83   \n",
            "2061-01-02  14.71    NaN  10.83   6.50  12.62  7.67  11.50  10.04   9.79   \n",
            "2061-01-03  18.50  16.88  12.33  10.13  11.17  6.17  11.25    NaN   8.50   \n",
            "2061-01-04  10.58   6.63  11.75   4.58   4.54  2.88   8.63   1.79   5.83   \n",
            "2061-01-05  13.33  13.25  11.42   6.17  10.71  8.21  11.92   6.54  10.92   \n",
            "\n",
            "              CLO    BEL    MAL  \n",
            "Date                             \n",
            "2061-01-01  12.58  18.50  15.04  \n",
            "2061-01-02   9.67  17.54  13.83  \n",
            "2061-01-03   7.67  12.75  12.71  \n",
            "2061-01-04   5.88   5.46  10.88  \n",
            "2061-01-05  10.34  12.92  11.83  \n"
          ]
        }
      ],
      "source": [
        "# 데이터 불러오기\n",
        "url = 'https://raw.githubusercontent.com/guipsamora/pandas_exercises/master/06_Stats/Wind_Stats/wind.data'\n",
        "\n",
        "df = pd.read_csv(url, delim_whitespace=True) # 공백으로 데이터가 구분되어 있어서 delim사용해서 처리\n",
        "\n",
        "# 연산 이용해서 하나의 숫자로 변환\n",
        "df['Date'] = pd.to_datetime(df['Yr']*10000 + df['Mo']*100 + df['Dy'], format='%y%m%d')\n",
        "\n",
        "#인덱스로 설정\n",
        "df.set_index('Date', inplace=True)\n",
        "\n",
        "#기존Yr Mo Dy 칼럼 제거\n",
        "df.drop(columns=['Yr', 'Mo', 'Dy'], inplace=True)\n",
        "\n",
        "print(df.head())"
      ]
    },
    {
      "cell_type": "code",
      "source": [],
      "metadata": {
        "id": "mMpypeKGcd1t"
      },
      "execution_count": null,
      "outputs": []
    },
    {
      "cell_type": "markdown",
      "metadata": {
        "id": "7XH1wbY5YyXK"
      },
      "source": [
        "### Step 4. Year 2061? Do we really have data from this year? Create a function to fix it and apply it."
      ]
    },
    {
      "cell_type": "code",
      "execution_count": 17,
      "metadata": {
        "id": "Q_r0lrZtYyXK",
        "outputId": "42f882d6-b1cb-4320-b09c-640411a9b586",
        "colab": {
          "base_uri": "https://localhost:8080/"
        }
      },
      "outputs": [
        {
          "output_type": "stream",
          "name": "stdout",
          "text": [
            "          RPT    VAL    ROS   KIL    SHA    BIR    DUB    CLA    MUL    CLO  \\\n",
            "Date                                                                          \n",
            "781227  17.58  16.96  17.62  8.08  13.21  11.67  14.46  15.59  14.04  14.00   \n",
            "781228  13.21   5.46  13.46  5.00   8.12   9.42  14.33  16.25  15.25  18.05   \n",
            "781229  14.00  10.29  14.42  8.71   9.71  10.54  19.17  12.46  14.50  16.42   \n",
            "781230  18.50  14.04  21.29  9.13  12.75   9.71  18.08  12.87  12.46  12.12   \n",
            "781231  20.33  17.41  27.29  9.59  12.08  10.13  19.25  11.63  11.58  11.38   \n",
            "\n",
            "          BEL    MAL  \n",
            "Date                  \n",
            "781227  17.21  40.08  \n",
            "781228  21.79  41.46  \n",
            "781229  18.88  29.58  \n",
            "781230  14.67  28.79  \n",
            "781231  12.08  22.08  \n"
          ]
        }
      ],
      "source": [
        "# if 쓰기 좀 귀찮아서 그냥 YYMMDD로 만들기\n",
        "\n",
        "# 데이터 불러오기\n",
        "url = 'https://raw.githubusercontent.com/guipsamora/pandas_exercises/master/06_Stats/Wind_Stats/wind.data'\n",
        "\n",
        "df = pd.read_csv(url, delim_whitespace=True)  # 공백으로 데이터가 구분되어 있어서 delim사용해서 처리\n",
        "\n",
        "# Yr, Mo, Dy를 하나의 문자열로 결합하여 YYMMDD 형식으로 변환\n",
        "df['Date'] = df['Yr'].astype(str).str.zfill(2) + df['Mo'].astype(str).str.zfill(2) + df['Dy'].astype(str).str.zfill(2)\n",
        "\n",
        "# Date를 인덱스로 설정\n",
        "df.set_index('Date', inplace=True)\n",
        "\n",
        "# 기존 Yr, Mo, Dy 열 제거\n",
        "df.drop(columns=['Yr', 'Mo', 'Dy'], inplace=True)\n",
        "\n",
        "# 데이터 확인\n",
        "print(df.tail())"
      ]
    },
    {
      "cell_type": "markdown",
      "metadata": {
        "id": "LIlNvlEpYyXK"
      },
      "source": [
        "### Step 5. Set the right dates as the index. Pay attention at the data type, it should be datetime64[ns]."
      ]
    },
    {
      "cell_type": "code",
      "execution_count": 23,
      "metadata": {
        "id": "oJVFHo2tYyXK",
        "outputId": "291fa6db-4071-4461-fcae-5e338b5d7f6e",
        "colab": {
          "base_uri": "https://localhost:8080/"
        }
      },
      "outputs": [
        {
          "output_type": "stream",
          "name": "stdout",
          "text": [
            "              RPT    VAL    ROS    KIL    SHA   BIR    DUB    CLA    MUL  \\\n",
            "Date                                                                       \n",
            "1961-01-01  15.04  14.96  13.17   9.29    NaN  9.87  13.67  10.25  10.83   \n",
            "1961-01-02  14.71    NaN  10.83   6.50  12.62  7.67  11.50  10.04   9.79   \n",
            "1961-01-03  18.50  16.88  12.33  10.13  11.17  6.17  11.25    NaN   8.50   \n",
            "1961-01-04  10.58   6.63  11.75   4.58   4.54  2.88   8.63   1.79   5.83   \n",
            "1961-01-05  13.33  13.25  11.42   6.17  10.71  8.21  11.92   6.54  10.92   \n",
            "\n",
            "              CLO    BEL    MAL  \n",
            "Date                             \n",
            "1961-01-01  12.58  18.50  15.04  \n",
            "1961-01-02   9.67  17.54  13.83  \n",
            "1961-01-03   7.67  12.75  12.71  \n",
            "1961-01-04   5.88   5.46  10.88  \n",
            "1961-01-05  10.34  12.92  11.83  \n",
            "datetime64[ns]\n"
          ]
        }
      ],
      "source": [
        "# 결국 하게 만드네,,,\n",
        "\n",
        "url = 'https://raw.githubusercontent.com/guipsamora/pandas_exercises/master/06_Stats/Wind_Stats/wind.data'\n",
        "df = pd.read_csv(url, delim_whitespace=True)\n",
        "\n",
        "# if를 써보자... 두 자리 연도를 4자리로 변환 (50 이상이면 1900년대, 미만이면 2000년대)\n",
        "def fix_year(yr):\n",
        "    if yr >= 50:\n",
        "        return 1900 + yr  # 50 이상은 1900년대\n",
        "    else:\n",
        "        return 2000 + yr  # 50 미만은 2000년대\n",
        "\n",
        "# Yr 열에 연도 변환 함수 적용\n",
        "df['Yr'] = df['Yr'].apply(fix_year)\n",
        "\n",
        "# Yr, Mo, Dy를 datetime으로 변환\n",
        "df['Date'] = pd.to_datetime(df['Yr']*10000 + df['Mo']*100 + df['Dy'], format='%Y%m%d')\n",
        "\n",
        "# Date를 인덱스로 설정하고 기존 Yr, Mo, Dy 열은 제거\n",
        "df.set_index('Date', inplace=True)\n",
        "df.drop(columns=['Yr', 'Mo', 'Dy'], inplace=True)\n",
        "\n",
        "#데이터 확인\n",
        "print(df.head())\n",
        "print(df.index.dtype)"
      ]
    },
    {
      "cell_type": "markdown",
      "metadata": {
        "id": "npAOVleHYyXK"
      },
      "source": [
        "### Step 6. Compute how many values are missing for each location over the entire record.  \n",
        "#### They should be ignored in all calculations below."
      ]
    },
    {
      "cell_type": "code",
      "execution_count": 28,
      "metadata": {
        "id": "2aCFmtwnYyXK",
        "outputId": "32d04d02-7ce2-4759-f0ea-58e23a456881",
        "colab": {
          "base_uri": "https://localhost:8080/"
        }
      },
      "outputs": [
        {
          "output_type": "stream",
          "name": "stdout",
          "text": [
            "RPT    6\n",
            "VAL    3\n",
            "ROS    2\n",
            "KIL    5\n",
            "SHA    2\n",
            "BIR    0\n",
            "DUB    3\n",
            "CLA    2\n",
            "MUL    3\n",
            "CLO    1\n",
            "BEL    0\n",
            "MAL    4\n",
            "dtype: int64\n"
          ]
        }
      ],
      "source": [
        "# 누락 몇개?\n",
        "missing_values = df.isnull().sum()\n",
        "\n",
        "print(missing_values)"
      ]
    },
    {
      "cell_type": "markdown",
      "metadata": {
        "id": "EXLzaI06YyXK"
      },
      "source": [
        "### Step 7. Compute how many non-missing values there are in total."
      ]
    },
    {
      "cell_type": "code",
      "execution_count": 32,
      "metadata": {
        "scrolled": true,
        "id": "aTA0p_vWYyXK",
        "outputId": "7135b619-3358-4797-bf28-1ce19a3278b9",
        "colab": {
          "base_uri": "https://localhost:8080/"
        }
      },
      "outputs": [
        {
          "output_type": "stream",
          "name": "stdout",
          "text": [
            "78857\n"
          ]
        }
      ],
      "source": [
        "#데이터 확인\n",
        "non_missing_values = df.notna().sum().sum()\n",
        "\n",
        "print(f\"{non_missing_values}\")"
      ]
    },
    {
      "cell_type": "markdown",
      "metadata": {
        "id": "A__96U5eYyXK"
      },
      "source": [
        "### Step 8. Calculate the mean windspeeds of the windspeeds over all the locations and all the times.\n",
        "#### A single number for the entire dataset."
      ]
    },
    {
      "cell_type": "code",
      "execution_count": null,
      "metadata": {
        "id": "u9CHYvtyYyXK"
      },
      "outputs": [],
      "source": []
    },
    {
      "cell_type": "markdown",
      "metadata": {
        "id": "iI8KKjqmYyXK"
      },
      "source": [
        "### Step 9. Create a DataFrame called loc_stats and calculate the min, max and mean windspeeds and standard deviations of the windspeeds at each location over all the days\n",
        "\n",
        "#### A different set of numbers for each location."
      ]
    },
    {
      "cell_type": "code",
      "execution_count": null,
      "metadata": {
        "id": "3f2LJzBtYyXK"
      },
      "outputs": [],
      "source": []
    },
    {
      "cell_type": "markdown",
      "metadata": {
        "id": "OuDPPEQrYyXK"
      },
      "source": [
        "### Step 10. Create a DataFrame called day_stats and calculate the min, max and mean windspeed and standard deviations of the windspeeds across all the locations at each day.\n",
        "\n",
        "#### A different set of numbers for each day."
      ]
    },
    {
      "cell_type": "code",
      "execution_count": null,
      "metadata": {
        "id": "25poi7JMYyXL"
      },
      "outputs": [],
      "source": []
    },
    {
      "cell_type": "markdown",
      "metadata": {
        "id": "CWc567ZUYyXL"
      },
      "source": [
        "### Step 11. Find the average windspeed in January for each location.  \n",
        "#### Treat January 1961 and January 1962 both as January."
      ]
    },
    {
      "cell_type": "code",
      "execution_count": null,
      "metadata": {
        "id": "UBTkS5Q6YyXL"
      },
      "outputs": [],
      "source": []
    },
    {
      "cell_type": "markdown",
      "metadata": {
        "id": "raYgYJd_YyXL"
      },
      "source": [
        "### Step 12. Downsample the record to a yearly frequency for each location."
      ]
    },
    {
      "cell_type": "code",
      "execution_count": null,
      "metadata": {
        "id": "fJeZNK_bYyXL"
      },
      "outputs": [],
      "source": []
    },
    {
      "cell_type": "markdown",
      "metadata": {
        "id": "fkFL1e4YYyXL"
      },
      "source": [
        "### Step 13. Downsample the record to a monthly frequency for each location."
      ]
    },
    {
      "cell_type": "code",
      "execution_count": null,
      "metadata": {
        "id": "NPA28BtNYyXL"
      },
      "outputs": [],
      "source": []
    },
    {
      "cell_type": "markdown",
      "metadata": {
        "id": "F2-HSs_LYyXL"
      },
      "source": [
        "### Step 14. Downsample the record to a weekly frequency for each location."
      ]
    },
    {
      "cell_type": "code",
      "execution_count": null,
      "metadata": {
        "id": "aF3Dus7xYyXL"
      },
      "outputs": [],
      "source": []
    },
    {
      "cell_type": "markdown",
      "metadata": {
        "id": "Oy7Eu6GhYyXL"
      },
      "source": [
        "### Step 15. Calculate the min, max and mean windspeeds and standard deviations of the windspeeds across all locations for each week (assume that the first week starts on January 2 1961) for the first 52 weeks."
      ]
    },
    {
      "cell_type": "code",
      "execution_count": null,
      "metadata": {
        "id": "KSSKB7NxYyXL"
      },
      "outputs": [],
      "source": []
    }
  ],
  "metadata": {
    "anaconda-cloud": {},
    "kernelspec": {
      "display_name": "Python [default]",
      "language": "python",
      "name": "python2"
    },
    "language_info": {
      "codemirror_mode": {
        "name": "ipython",
        "version": 2
      },
      "file_extension": ".py",
      "mimetype": "text/x-python",
      "name": "python",
      "nbconvert_exporter": "python",
      "pygments_lexer": "ipython2",
      "version": "2.7.12"
    },
    "colab": {
      "provenance": [],
      "include_colab_link": true
    }
  },
  "nbformat": 4,
  "nbformat_minor": 0
}