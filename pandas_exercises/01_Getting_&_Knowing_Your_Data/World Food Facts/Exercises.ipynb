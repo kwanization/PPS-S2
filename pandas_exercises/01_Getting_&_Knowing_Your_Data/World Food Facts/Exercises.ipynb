{
  "cells": [
    {
      "cell_type": "markdown",
      "metadata": {
        "id": "X1ktOojssC6v"
      },
      "source": [
        "# Exercise 1"
      ]
    },
    {
      "cell_type": "markdown",
      "metadata": {
        "id": "r2zJYcxVsC6w"
      },
      "source": [
        "### Step 1. Go to https://www.kaggle.com/openfoodfacts/world-food-facts/data"
      ]
    },
    {
      "cell_type": "markdown",
      "metadata": {
        "id": "NeJcy3ZpsC6w"
      },
      "source": [
        "### Step 2. Download the dataset to your computer and unzip it."
      ]
    },
    {
      "cell_type": "markdown",
      "metadata": {
        "id": "a_TxY7TGsC6w"
      },
      "source": [
        "### Step 3. Use the tsv file and assign it to a dataframe called food"
      ]
    },
    {
      "cell_type": "code",
      "execution_count": 35,
      "metadata": {
        "id": "V6EsilqIsC6w"
      },
      "outputs": [],
      "source": [
        "import numpy as np\n",
        "import pandas as pd"
      ]
    },
    {
      "cell_type": "code",
      "source": [
        "# 업로드된 파일 읽기\n",
        "food = pd.read_csv('/content/en.openfoodfacts.org.products.tsv', sep='\\t')"
      ],
      "metadata": {
        "id": "Mq8bcZJjESZh",
        "outputId": "6c0463e6-480e-4702-f79d-485c771f2377",
        "colab": {
          "base_uri": "https://localhost:8080/",
          "height": 318
        }
      },
      "execution_count": 37,
      "outputs": [
        {
          "output_type": "error",
          "ename": "FileNotFoundError",
          "evalue": "[Errno 2] No such file or directory: '/content/en.openfoodfacts.org.products.tsv'",
          "traceback": [
            "\u001b[0;31m---------------------------------------------------------------------------\u001b[0m",
            "\u001b[0;31mFileNotFoundError\u001b[0m                         Traceback (most recent call last)",
            "\u001b[0;32m<ipython-input-37-47b261ada51d>\u001b[0m in \u001b[0;36m<cell line: 2>\u001b[0;34m()\u001b[0m\n\u001b[1;32m      1\u001b[0m \u001b[0;31m# 업로드된 파일 읽기\u001b[0m\u001b[0;34m\u001b[0m\u001b[0;34m\u001b[0m\u001b[0m\n\u001b[0;32m----> 2\u001b[0;31m \u001b[0mfood\u001b[0m \u001b[0;34m=\u001b[0m \u001b[0mpd\u001b[0m\u001b[0;34m.\u001b[0m\u001b[0mread_csv\u001b[0m\u001b[0;34m(\u001b[0m\u001b[0;34m'/content/en.openfoodfacts.org.products.tsv'\u001b[0m\u001b[0;34m,\u001b[0m \u001b[0msep\u001b[0m\u001b[0;34m=\u001b[0m\u001b[0;34m'\\t'\u001b[0m\u001b[0;34m)\u001b[0m\u001b[0;34m\u001b[0m\u001b[0;34m\u001b[0m\u001b[0m\n\u001b[0m",
            "\u001b[0;32m/usr/local/lib/python3.10/dist-packages/pandas/io/parsers/readers.py\u001b[0m in \u001b[0;36mread_csv\u001b[0;34m(filepath_or_buffer, sep, delimiter, header, names, index_col, usecols, dtype, engine, converters, true_values, false_values, skipinitialspace, skiprows, skipfooter, nrows, na_values, keep_default_na, na_filter, verbose, skip_blank_lines, parse_dates, infer_datetime_format, keep_date_col, date_parser, date_format, dayfirst, cache_dates, iterator, chunksize, compression, thousands, decimal, lineterminator, quotechar, quoting, doublequote, escapechar, comment, encoding, encoding_errors, dialect, on_bad_lines, delim_whitespace, low_memory, memory_map, float_precision, storage_options, dtype_backend)\u001b[0m\n\u001b[1;32m    910\u001b[0m     \u001b[0mkwds\u001b[0m\u001b[0;34m.\u001b[0m\u001b[0mupdate\u001b[0m\u001b[0;34m(\u001b[0m\u001b[0mkwds_defaults\u001b[0m\u001b[0;34m)\u001b[0m\u001b[0;34m\u001b[0m\u001b[0;34m\u001b[0m\u001b[0m\n\u001b[1;32m    911\u001b[0m \u001b[0;34m\u001b[0m\u001b[0m\n\u001b[0;32m--> 912\u001b[0;31m     \u001b[0;32mreturn\u001b[0m \u001b[0m_read\u001b[0m\u001b[0;34m(\u001b[0m\u001b[0mfilepath_or_buffer\u001b[0m\u001b[0;34m,\u001b[0m \u001b[0mkwds\u001b[0m\u001b[0;34m)\u001b[0m\u001b[0;34m\u001b[0m\u001b[0;34m\u001b[0m\u001b[0m\n\u001b[0m\u001b[1;32m    913\u001b[0m \u001b[0;34m\u001b[0m\u001b[0m\n\u001b[1;32m    914\u001b[0m \u001b[0;34m\u001b[0m\u001b[0m\n",
            "\u001b[0;32m/usr/local/lib/python3.10/dist-packages/pandas/io/parsers/readers.py\u001b[0m in \u001b[0;36m_read\u001b[0;34m(filepath_or_buffer, kwds)\u001b[0m\n\u001b[1;32m    575\u001b[0m \u001b[0;34m\u001b[0m\u001b[0m\n\u001b[1;32m    576\u001b[0m     \u001b[0;31m# Create the parser.\u001b[0m\u001b[0;34m\u001b[0m\u001b[0;34m\u001b[0m\u001b[0m\n\u001b[0;32m--> 577\u001b[0;31m     \u001b[0mparser\u001b[0m \u001b[0;34m=\u001b[0m \u001b[0mTextFileReader\u001b[0m\u001b[0;34m(\u001b[0m\u001b[0mfilepath_or_buffer\u001b[0m\u001b[0;34m,\u001b[0m \u001b[0;34m**\u001b[0m\u001b[0mkwds\u001b[0m\u001b[0;34m)\u001b[0m\u001b[0;34m\u001b[0m\u001b[0;34m\u001b[0m\u001b[0m\n\u001b[0m\u001b[1;32m    578\u001b[0m \u001b[0;34m\u001b[0m\u001b[0m\n\u001b[1;32m    579\u001b[0m     \u001b[0;32mif\u001b[0m \u001b[0mchunksize\u001b[0m \u001b[0;32mor\u001b[0m \u001b[0miterator\u001b[0m\u001b[0;34m:\u001b[0m\u001b[0;34m\u001b[0m\u001b[0;34m\u001b[0m\u001b[0m\n",
            "\u001b[0;32m/usr/local/lib/python3.10/dist-packages/pandas/io/parsers/readers.py\u001b[0m in \u001b[0;36m__init__\u001b[0;34m(self, f, engine, **kwds)\u001b[0m\n\u001b[1;32m   1405\u001b[0m \u001b[0;34m\u001b[0m\u001b[0m\n\u001b[1;32m   1406\u001b[0m         \u001b[0mself\u001b[0m\u001b[0;34m.\u001b[0m\u001b[0mhandles\u001b[0m\u001b[0;34m:\u001b[0m \u001b[0mIOHandles\u001b[0m \u001b[0;34m|\u001b[0m \u001b[0;32mNone\u001b[0m \u001b[0;34m=\u001b[0m \u001b[0;32mNone\u001b[0m\u001b[0;34m\u001b[0m\u001b[0;34m\u001b[0m\u001b[0m\n\u001b[0;32m-> 1407\u001b[0;31m         \u001b[0mself\u001b[0m\u001b[0;34m.\u001b[0m\u001b[0m_engine\u001b[0m \u001b[0;34m=\u001b[0m \u001b[0mself\u001b[0m\u001b[0;34m.\u001b[0m\u001b[0m_make_engine\u001b[0m\u001b[0;34m(\u001b[0m\u001b[0mf\u001b[0m\u001b[0;34m,\u001b[0m \u001b[0mself\u001b[0m\u001b[0;34m.\u001b[0m\u001b[0mengine\u001b[0m\u001b[0;34m)\u001b[0m\u001b[0;34m\u001b[0m\u001b[0;34m\u001b[0m\u001b[0m\n\u001b[0m\u001b[1;32m   1408\u001b[0m \u001b[0;34m\u001b[0m\u001b[0m\n\u001b[1;32m   1409\u001b[0m     \u001b[0;32mdef\u001b[0m \u001b[0mclose\u001b[0m\u001b[0;34m(\u001b[0m\u001b[0mself\u001b[0m\u001b[0;34m)\u001b[0m \u001b[0;34m->\u001b[0m \u001b[0;32mNone\u001b[0m\u001b[0;34m:\u001b[0m\u001b[0;34m\u001b[0m\u001b[0;34m\u001b[0m\u001b[0m\n",
            "\u001b[0;32m/usr/local/lib/python3.10/dist-packages/pandas/io/parsers/readers.py\u001b[0m in \u001b[0;36m_make_engine\u001b[0;34m(self, f, engine)\u001b[0m\n\u001b[1;32m   1659\u001b[0m                 \u001b[0;32mif\u001b[0m \u001b[0;34m\"b\"\u001b[0m \u001b[0;32mnot\u001b[0m \u001b[0;32min\u001b[0m \u001b[0mmode\u001b[0m\u001b[0;34m:\u001b[0m\u001b[0;34m\u001b[0m\u001b[0;34m\u001b[0m\u001b[0m\n\u001b[1;32m   1660\u001b[0m                     \u001b[0mmode\u001b[0m \u001b[0;34m+=\u001b[0m \u001b[0;34m\"b\"\u001b[0m\u001b[0;34m\u001b[0m\u001b[0;34m\u001b[0m\u001b[0m\n\u001b[0;32m-> 1661\u001b[0;31m             self.handles = get_handle(\n\u001b[0m\u001b[1;32m   1662\u001b[0m                 \u001b[0mf\u001b[0m\u001b[0;34m,\u001b[0m\u001b[0;34m\u001b[0m\u001b[0;34m\u001b[0m\u001b[0m\n\u001b[1;32m   1663\u001b[0m                 \u001b[0mmode\u001b[0m\u001b[0;34m,\u001b[0m\u001b[0;34m\u001b[0m\u001b[0;34m\u001b[0m\u001b[0m\n",
            "\u001b[0;32m/usr/local/lib/python3.10/dist-packages/pandas/io/common.py\u001b[0m in \u001b[0;36mget_handle\u001b[0;34m(path_or_buf, mode, encoding, compression, memory_map, is_text, errors, storage_options)\u001b[0m\n\u001b[1;32m    857\u001b[0m         \u001b[0;32mif\u001b[0m \u001b[0mioargs\u001b[0m\u001b[0;34m.\u001b[0m\u001b[0mencoding\u001b[0m \u001b[0;32mand\u001b[0m \u001b[0;34m\"b\"\u001b[0m \u001b[0;32mnot\u001b[0m \u001b[0;32min\u001b[0m \u001b[0mioargs\u001b[0m\u001b[0;34m.\u001b[0m\u001b[0mmode\u001b[0m\u001b[0;34m:\u001b[0m\u001b[0;34m\u001b[0m\u001b[0;34m\u001b[0m\u001b[0m\n\u001b[1;32m    858\u001b[0m             \u001b[0;31m# Encoding\u001b[0m\u001b[0;34m\u001b[0m\u001b[0;34m\u001b[0m\u001b[0m\n\u001b[0;32m--> 859\u001b[0;31m             handle = open(\n\u001b[0m\u001b[1;32m    860\u001b[0m                 \u001b[0mhandle\u001b[0m\u001b[0;34m,\u001b[0m\u001b[0;34m\u001b[0m\u001b[0;34m\u001b[0m\u001b[0m\n\u001b[1;32m    861\u001b[0m                 \u001b[0mioargs\u001b[0m\u001b[0;34m.\u001b[0m\u001b[0mmode\u001b[0m\u001b[0;34m,\u001b[0m\u001b[0;34m\u001b[0m\u001b[0;34m\u001b[0m\u001b[0m\n",
            "\u001b[0;31mFileNotFoundError\u001b[0m: [Errno 2] No such file or directory: '/content/en.openfoodfacts.org.products.tsv'"
          ]
        }
      ]
    },
    {
      "cell_type": "markdown",
      "metadata": {
        "id": "1Y4ZzujbsC6x"
      },
      "source": [
        "### Step 4. See the first 5 entries\n",
        "* 첫 5개 보기 ()안에 안넣으면 걍 5개 보여짐. n개 보고 싶으면 (n)하면 됨."
      ]
    },
    {
      "cell_type": "code",
      "source": [
        "food.head()"
      ],
      "metadata": {
        "id": "vtCHl8o34-ie",
        "outputId": "601c7a66-83da-4a67-c3cb-e661d74527fb",
        "colab": {
          "base_uri": "https://localhost:8080/",
          "height": 1000
        }
      },
      "execution_count": 33,
      "outputs": [
        {
          "output_type": "execute_result",
          "data": {
            "text/plain": [
              "                                                                                                                                                                                                                                                                                                                                                                                                                                                    r  ]  [ crushed-red-peppers-and-xanthan-gum -> en:crushed-red-peppers-and-xanthan-gum  ]  [ red-peppers-and-xanthan-gum -> en:red-peppers-and-xanthan-gum  ]  [ peppers-and-xanthan-gum -> en:peppers-and-xanthan-gum  ]  [ and-xanthan-gum -> en:and-xanthan-gum  ]  [ xanthan-gum -> en:e415  -> exists  -- ok  ]  [ a-natural-thickener -> en:a-natural-thickener  ]  [ natural-thickener -> en:natural-thickener  ]  [ thickener -> en:thickener  ]   \\\n",
              "755795755641 http://world-en.openfoodfacts.org/product/07557... usda-ndb-import 1489061535 2017-03-09T12:12:15Z 1489061535 2017-03-09T12:12:15Z Hot Bbq Sauce            NaN NaN NaN NaN Kinder's                       kinder-s                 NaN NaN NaN NaN NaN NaN NaN NaN NaN NaN NaN NaN NaN NaN NaN NaN NaN US en:united-states United States Tomato puree (water, toamto paste), brown sugar... NaN NaN NaN NaN NaN 34 g (2 Tbsp) NaN 2.0   [ tomato-puree -> en:tomato-puree  ]  [ puree...                                                                                                                                                                                                                                                                                                                                                                                                         \n",
              "755795755665 http://world-en.openfoodfacts.org/product/07557... usda-ndb-import 1489061937 2017-03-09T12:18:57Z 1489061937 2017-03-09T12:18:57Z S, Exxxtra Hot Bbq Sauce NaN NaN NaN NaN Kinder,  P.K. Kinder Co.  Inc. kinder,p-k-kinder-co-inc NaN NaN NaN NaN NaN NaN NaN NaN NaN NaN NaN NaN NaN NaN NaN NaN NaN US en:united-states United States Tomato puree (water, tomato paste), dark brown ... NaN NaN NaN NaN NaN 34 g (2 Tbsp) NaN 2.0   [ tomato-puree -> en:tomato-puree  ]  [ puree...                                                                                                                                                                                                                                                                                                                                                                                                         \n",
              "755795755702 http://world-en.openfoodfacts.org/product/07557... usda-ndb-import 1489061936 2017-03-09T12:18:56Z 1489061936 2017-03-09T12:18:56Z S, Original Marinade     NaN NaN NaN NaN Kinder,  P.K. Kinder Co.  Inc. kinder,p-k-kinder-co-inc NaN NaN NaN NaN NaN NaN NaN NaN NaN NaN NaN NaN NaN NaN NaN NaN NaN US en:united-states United States Soy sauce (water, soybeans, wheat and salt), wa... NaN NaN NaN NaN NaN 16 g (1 Tbsp) NaN 1.0   [ soy-sauce -> en:soy-sauce  ]  [ sauce -> en...                                                                                                                                                                                                                                                                                                                                                                                                         \n",
              "755795755719 http://world-en.openfoodfacts.org/product/07557... usda-ndb-import 1489061941 2017-03-09T12:19:01Z 1489061941 2017-03-09T12:19:01Z S, Garlic Marinade       NaN NaN NaN NaN Kinder,  P.K. Kinder Co.  Inc. kinder,p-k-kinder-co-inc NaN NaN NaN NaN NaN NaN NaN NaN NaN NaN NaN NaN NaN NaN NaN NaN NaN US en:united-states United States Soy sauce (water, soybeans, wheat and salt), wa... NaN NaN NaN NaN NaN 16 g (1 Tbsp) NaN 1.0   [ soy-sauce -> en:soy-sauce  ]  [ sauce -> en...                                                                                                                                                                                                                                                                                                                                                                                                         \n",
              "755795755726 http://world-en.openfoodfacts.org/product/07557... usda-ndb-import 1489061532 2017-03-09T12:12:12Z 1489061532 2017-03-09T12:12:12Z Roasted Garlic Bbq Sauce NaN NaN NaN NaN Kinder's                       kinder-s                 NaN NaN NaN NaN NaN NaN NaN NaN NaN NaN NaN NaN NaN NaN NaN NaN NaN US en:united-states United States Tomato puree (water tomato paste), dark brown s... NaN NaN NaN NaN NaN 34 g (2 Tbsp) NaN 2.0   [ tomato-puree -> en:tomato-puree  ]  [ puree...                                                                                                                                                                                                                                                                                                                                                                                                         \n",
              "\n",
              "                                                                                                                                                                                                                                                                                                                                                                                                                                                     en:e150a,en:e415  \\\n",
              "755795755641 http://world-en.openfoodfacts.org/product/07557... usda-ndb-import 1489061535 2017-03-09T12:12:15Z 1489061535 2017-03-09T12:12:15Z Hot Bbq Sauce            NaN NaN NaN NaN Kinder's                       kinder-s                 NaN NaN NaN NaN NaN NaN NaN NaN NaN NaN NaN NaN NaN NaN NaN NaN NaN US en:united-states United States Tomato puree (water, toamto paste), brown sugar... NaN NaN NaN NaN NaN 34 g (2 Tbsp) NaN 2.0  en:e150a,en:e415   \n",
              "755795755665 http://world-en.openfoodfacts.org/product/07557... usda-ndb-import 1489061937 2017-03-09T12:18:57Z 1489061937 2017-03-09T12:18:57Z S, Exxxtra Hot Bbq Sauce NaN NaN NaN NaN Kinder,  P.K. Kinder Co.  Inc. kinder,p-k-kinder-co-inc NaN NaN NaN NaN NaN NaN NaN NaN NaN NaN NaN NaN NaN NaN NaN NaN NaN US en:united-states United States Tomato puree (water, tomato paste), dark brown ... NaN NaN NaN NaN NaN 34 g (2 Tbsp) NaN 2.0  en:e150a,en:e415   \n",
              "755795755702 http://world-en.openfoodfacts.org/product/07557... usda-ndb-import 1489061936 2017-03-09T12:18:56Z 1489061936 2017-03-09T12:18:56Z S, Original Marinade     NaN NaN NaN NaN Kinder,  P.K. Kinder Co.  Inc. kinder,p-k-kinder-co-inc NaN NaN NaN NaN NaN NaN NaN NaN NaN NaN NaN NaN NaN NaN NaN NaN NaN US en:united-states United States Soy sauce (water, soybeans, wheat and salt), wa... NaN NaN NaN NaN NaN 16 g (1 Tbsp) NaN 1.0           en:e415   \n",
              "755795755719 http://world-en.openfoodfacts.org/product/07557... usda-ndb-import 1489061941 2017-03-09T12:19:01Z 1489061941 2017-03-09T12:19:01Z S, Garlic Marinade       NaN NaN NaN NaN Kinder,  P.K. Kinder Co.  Inc. kinder,p-k-kinder-co-inc NaN NaN NaN NaN NaN NaN NaN NaN NaN NaN NaN NaN NaN NaN NaN NaN NaN US en:united-states United States Soy sauce (water, soybeans, wheat and salt), wa... NaN NaN NaN NaN NaN 16 g (1 Tbsp) NaN 1.0           en:e415   \n",
              "755795755726 http://world-en.openfoodfacts.org/product/07557... usda-ndb-import 1489061532 2017-03-09T12:12:12Z 1489061532 2017-03-09T12:12:12Z Roasted Garlic Bbq Sauce NaN NaN NaN NaN Kinder's                       kinder-s                 NaN NaN NaN NaN NaN NaN NaN NaN NaN NaN NaN NaN NaN NaN NaN NaN NaN US en:united-states United States Tomato puree (water tomato paste), dark brown s... NaN NaN NaN NaN NaN 34 g (2 Tbsp) NaN 2.0  en:e150a,en:e415   \n",
              "\n",
              "                                                                                                                                                                                                                                                                                                                                                                                                                                                     E150a - Plain caramel,E415 - Xanthan gum  \\\n",
              "755795755641 http://world-en.openfoodfacts.org/product/07557... usda-ndb-import 1489061535 2017-03-09T12:12:15Z 1489061535 2017-03-09T12:12:15Z Hot Bbq Sauce            NaN NaN NaN NaN Kinder's                       kinder-s                 NaN NaN NaN NaN NaN NaN NaN NaN NaN NaN NaN NaN NaN NaN NaN NaN NaN US en:united-states United States Tomato puree (water, toamto paste), brown sugar... NaN NaN NaN NaN NaN 34 g (2 Tbsp) NaN 2.0  E150a - Plain caramel,E415 - Xanthan gum   \n",
              "755795755665 http://world-en.openfoodfacts.org/product/07557... usda-ndb-import 1489061937 2017-03-09T12:18:57Z 1489061937 2017-03-09T12:18:57Z S, Exxxtra Hot Bbq Sauce NaN NaN NaN NaN Kinder,  P.K. Kinder Co.  Inc. kinder,p-k-kinder-co-inc NaN NaN NaN NaN NaN NaN NaN NaN NaN NaN NaN NaN NaN NaN NaN NaN NaN US en:united-states United States Tomato puree (water, tomato paste), dark brown ... NaN NaN NaN NaN NaN 34 g (2 Tbsp) NaN 2.0  E150a - Plain caramel,E415 - Xanthan gum   \n",
              "755795755702 http://world-en.openfoodfacts.org/product/07557... usda-ndb-import 1489061936 2017-03-09T12:18:56Z 1489061936 2017-03-09T12:18:56Z S, Original Marinade     NaN NaN NaN NaN Kinder,  P.K. Kinder Co.  Inc. kinder,p-k-kinder-co-inc NaN NaN NaN NaN NaN NaN NaN NaN NaN NaN NaN NaN NaN NaN NaN NaN NaN US en:united-states United States Soy sauce (water, soybeans, wheat and salt), wa... NaN NaN NaN NaN NaN 16 g (1 Tbsp) NaN 1.0                        E415 - Xanthan gum   \n",
              "755795755719 http://world-en.openfoodfacts.org/product/07557... usda-ndb-import 1489061941 2017-03-09T12:19:01Z 1489061941 2017-03-09T12:19:01Z S, Garlic Marinade       NaN NaN NaN NaN Kinder,  P.K. Kinder Co.  Inc. kinder,p-k-kinder-co-inc NaN NaN NaN NaN NaN NaN NaN NaN NaN NaN NaN NaN NaN NaN NaN NaN NaN US en:united-states United States Soy sauce (water, soybeans, wheat and salt), wa... NaN NaN NaN NaN NaN 16 g (1 Tbsp) NaN 1.0                        E415 - Xanthan gum   \n",
              "755795755726 http://world-en.openfoodfacts.org/product/07557... usda-ndb-import 1489061532 2017-03-09T12:12:12Z 1489061532 2017-03-09T12:12:12Z Roasted Garlic Bbq Sauce NaN NaN NaN NaN Kinder's                       kinder-s                 NaN NaN NaN NaN NaN NaN NaN NaN NaN NaN NaN NaN NaN NaN NaN NaN NaN US en:united-states United States Tomato puree (water tomato paste), dark brown s... NaN NaN NaN NaN NaN 34 g (2 Tbsp) NaN 2.0  E150a - Plain caramel,E415 - Xanthan gum   \n",
              "\n",
              "                                                                                                                                                                                                                                                                                                                                                                                                                                                       0  \\\n",
              "755795755641 http://world-en.openfoodfacts.org/product/07557... usda-ndb-import 1489061535 2017-03-09T12:12:15Z 1489061535 2017-03-09T12:12:15Z Hot Bbq Sauce            NaN NaN NaN NaN Kinder's                       kinder-s                 NaN NaN NaN NaN NaN NaN NaN NaN NaN NaN NaN NaN NaN NaN NaN NaN NaN US en:united-states United States Tomato puree (water, toamto paste), brown sugar... NaN NaN NaN NaN NaN 34 g (2 Tbsp) NaN 2.0  0.0   \n",
              "755795755665 http://world-en.openfoodfacts.org/product/07557... usda-ndb-import 1489061937 2017-03-09T12:18:57Z 1489061937 2017-03-09T12:18:57Z S, Exxxtra Hot Bbq Sauce NaN NaN NaN NaN Kinder,  P.K. Kinder Co.  Inc. kinder,p-k-kinder-co-inc NaN NaN NaN NaN NaN NaN NaN NaN NaN NaN NaN NaN NaN NaN NaN NaN NaN US en:united-states United States Tomato puree (water, tomato paste), dark brown ... NaN NaN NaN NaN NaN 34 g (2 Tbsp) NaN 2.0  0.0   \n",
              "755795755702 http://world-en.openfoodfacts.org/product/07557... usda-ndb-import 1489061936 2017-03-09T12:18:56Z 1489061936 2017-03-09T12:18:56Z S, Original Marinade     NaN NaN NaN NaN Kinder,  P.K. Kinder Co.  Inc. kinder,p-k-kinder-co-inc NaN NaN NaN NaN NaN NaN NaN NaN NaN NaN NaN NaN NaN NaN NaN NaN NaN US en:united-states United States Soy sauce (water, soybeans, wheat and salt), wa... NaN NaN NaN NaN NaN 16 g (1 Tbsp) NaN 1.0  0.0   \n",
              "755795755719 http://world-en.openfoodfacts.org/product/07557... usda-ndb-import 1489061941 2017-03-09T12:19:01Z 1489061941 2017-03-09T12:19:01Z S, Garlic Marinade       NaN NaN NaN NaN Kinder,  P.K. Kinder Co.  Inc. kinder,p-k-kinder-co-inc NaN NaN NaN NaN NaN NaN NaN NaN NaN NaN NaN NaN NaN NaN NaN NaN NaN US en:united-states United States Soy sauce (water, soybeans, wheat and salt), wa... NaN NaN NaN NaN NaN 16 g (1 Tbsp) NaN 1.0  0.0   \n",
              "755795755726 http://world-en.openfoodfacts.org/product/07557... usda-ndb-import 1489061532 2017-03-09T12:12:12Z 1489061532 2017-03-09T12:12:12Z Roasted Garlic Bbq Sauce NaN NaN NaN NaN Kinder's                       kinder-s                 NaN NaN NaN NaN NaN NaN NaN NaN NaN NaN NaN NaN NaN NaN NaN NaN NaN US en:united-states United States Tomato puree (water tomato paste), dark brown s... NaN NaN NaN NaN NaN 34 g (2 Tbsp) NaN 2.0  0.0   \n",
              "\n",
              "                                                                                                                                                                                                                                                                                                                                                                                                                                                     Unnamed: 4  \\\n",
              "755795755641 http://world-en.openfoodfacts.org/product/07557... usda-ndb-import 1489061535 2017-03-09T12:12:15Z 1489061535 2017-03-09T12:12:15Z Hot Bbq Sauce            NaN NaN NaN NaN Kinder's                       kinder-s                 NaN NaN NaN NaN NaN NaN NaN NaN NaN NaN NaN NaN NaN NaN NaN NaN NaN US en:united-states United States Tomato puree (water, toamto paste), brown sugar... NaN NaN NaN NaN NaN 34 g (2 Tbsp) NaN 2.0         NaN   \n",
              "755795755665 http://world-en.openfoodfacts.org/product/07557... usda-ndb-import 1489061937 2017-03-09T12:18:57Z 1489061937 2017-03-09T12:18:57Z S, Exxxtra Hot Bbq Sauce NaN NaN NaN NaN Kinder,  P.K. Kinder Co.  Inc. kinder,p-k-kinder-co-inc NaN NaN NaN NaN NaN NaN NaN NaN NaN NaN NaN NaN NaN NaN NaN NaN NaN US en:united-states United States Tomato puree (water, tomato paste), dark brown ... NaN NaN NaN NaN NaN 34 g (2 Tbsp) NaN 2.0         NaN   \n",
              "755795755702 http://world-en.openfoodfacts.org/product/07557... usda-ndb-import 1489061936 2017-03-09T12:18:56Z 1489061936 2017-03-09T12:18:56Z S, Original Marinade     NaN NaN NaN NaN Kinder,  P.K. Kinder Co.  Inc. kinder,p-k-kinder-co-inc NaN NaN NaN NaN NaN NaN NaN NaN NaN NaN NaN NaN NaN NaN NaN NaN NaN US en:united-states United States Soy sauce (water, soybeans, wheat and salt), wa... NaN NaN NaN NaN NaN 16 g (1 Tbsp) NaN 1.0         NaN   \n",
              "755795755719 http://world-en.openfoodfacts.org/product/07557... usda-ndb-import 1489061941 2017-03-09T12:19:01Z 1489061941 2017-03-09T12:19:01Z S, Garlic Marinade       NaN NaN NaN NaN Kinder,  P.K. Kinder Co.  Inc. kinder,p-k-kinder-co-inc NaN NaN NaN NaN NaN NaN NaN NaN NaN NaN NaN NaN NaN NaN NaN NaN NaN US en:united-states United States Soy sauce (water, soybeans, wheat and salt), wa... NaN NaN NaN NaN NaN 16 g (1 Tbsp) NaN 1.0         NaN   \n",
              "755795755726 http://world-en.openfoodfacts.org/product/07557... usda-ndb-import 1489061532 2017-03-09T12:12:12Z 1489061532 2017-03-09T12:12:12Z Roasted Garlic Bbq Sauce NaN NaN NaN NaN Kinder's                       kinder-s                 NaN NaN NaN NaN NaN NaN NaN NaN NaN NaN NaN NaN NaN NaN NaN NaN NaN US en:united-states United States Tomato puree (water tomato paste), dark brown s... NaN NaN NaN NaN NaN 34 g (2 Tbsp) NaN 2.0         NaN   \n",
              "\n",
              "                                                                                                                                                                                                                                                                                                                                                                                                                                                     Unnamed: 5  \\\n",
              "755795755641 http://world-en.openfoodfacts.org/product/07557... usda-ndb-import 1489061535 2017-03-09T12:12:15Z 1489061535 2017-03-09T12:12:15Z Hot Bbq Sauce            NaN NaN NaN NaN Kinder's                       kinder-s                 NaN NaN NaN NaN NaN NaN NaN NaN NaN NaN NaN NaN NaN NaN NaN NaN NaN US en:united-states United States Tomato puree (water, toamto paste), brown sugar... NaN NaN NaN NaN NaN 34 g (2 Tbsp) NaN 2.0         NaN   \n",
              "755795755665 http://world-en.openfoodfacts.org/product/07557... usda-ndb-import 1489061937 2017-03-09T12:18:57Z 1489061937 2017-03-09T12:18:57Z S, Exxxtra Hot Bbq Sauce NaN NaN NaN NaN Kinder,  P.K. Kinder Co.  Inc. kinder,p-k-kinder-co-inc NaN NaN NaN NaN NaN NaN NaN NaN NaN NaN NaN NaN NaN NaN NaN NaN NaN US en:united-states United States Tomato puree (water, tomato paste), dark brown ... NaN NaN NaN NaN NaN 34 g (2 Tbsp) NaN 2.0         NaN   \n",
              "755795755702 http://world-en.openfoodfacts.org/product/07557... usda-ndb-import 1489061936 2017-03-09T12:18:56Z 1489061936 2017-03-09T12:18:56Z S, Original Marinade     NaN NaN NaN NaN Kinder,  P.K. Kinder Co.  Inc. kinder,p-k-kinder-co-inc NaN NaN NaN NaN NaN NaN NaN NaN NaN NaN NaN NaN NaN NaN NaN NaN NaN US en:united-states United States Soy sauce (water, soybeans, wheat and salt), wa... NaN NaN NaN NaN NaN 16 g (1 Tbsp) NaN 1.0         NaN   \n",
              "755795755719 http://world-en.openfoodfacts.org/product/07557... usda-ndb-import 1489061941 2017-03-09T12:19:01Z 1489061941 2017-03-09T12:19:01Z S, Garlic Marinade       NaN NaN NaN NaN Kinder,  P.K. Kinder Co.  Inc. kinder,p-k-kinder-co-inc NaN NaN NaN NaN NaN NaN NaN NaN NaN NaN NaN NaN NaN NaN NaN NaN NaN US en:united-states United States Soy sauce (water, soybeans, wheat and salt), wa... NaN NaN NaN NaN NaN 16 g (1 Tbsp) NaN 1.0         NaN   \n",
              "755795755726 http://world-en.openfoodfacts.org/product/07557... usda-ndb-import 1489061532 2017-03-09T12:12:12Z 1489061532 2017-03-09T12:12:12Z Roasted Garlic Bbq Sauce NaN NaN NaN NaN Kinder's                       kinder-s                 NaN NaN NaN NaN NaN NaN NaN NaN NaN NaN NaN NaN NaN NaN NaN NaN NaN US en:united-states United States Tomato puree (water tomato paste), dark brown s... NaN NaN NaN NaN NaN 34 g (2 Tbsp) NaN 2.0         NaN   \n",
              "\n",
              "                                                                                                                                                                                                                                                                                                                                                                                                                                                     0.1  \\\n",
              "755795755641 http://world-en.openfoodfacts.org/product/07557... usda-ndb-import 1489061535 2017-03-09T12:12:15Z 1489061535 2017-03-09T12:12:15Z Hot Bbq Sauce            NaN NaN NaN NaN Kinder's                       kinder-s                 NaN NaN NaN NaN NaN NaN NaN NaN NaN NaN NaN NaN NaN NaN NaN NaN NaN US en:united-states United States Tomato puree (water, toamto paste), brown sugar... NaN NaN NaN NaN NaN 34 g (2 Tbsp) NaN 2.0  0.0   \n",
              "755795755665 http://world-en.openfoodfacts.org/product/07557... usda-ndb-import 1489061937 2017-03-09T12:18:57Z 1489061937 2017-03-09T12:18:57Z S, Exxxtra Hot Bbq Sauce NaN NaN NaN NaN Kinder,  P.K. Kinder Co.  Inc. kinder,p-k-kinder-co-inc NaN NaN NaN NaN NaN NaN NaN NaN NaN NaN NaN NaN NaN NaN NaN NaN NaN US en:united-states United States Tomato puree (water, tomato paste), dark brown ... NaN NaN NaN NaN NaN 34 g (2 Tbsp) NaN 2.0  0.0   \n",
              "755795755702 http://world-en.openfoodfacts.org/product/07557... usda-ndb-import 1489061936 2017-03-09T12:18:56Z 1489061936 2017-03-09T12:18:56Z S, Original Marinade     NaN NaN NaN NaN Kinder,  P.K. Kinder Co.  Inc. kinder,p-k-kinder-co-inc NaN NaN NaN NaN NaN NaN NaN NaN NaN NaN NaN NaN NaN NaN NaN NaN NaN US en:united-states United States Soy sauce (water, soybeans, wheat and salt), wa... NaN NaN NaN NaN NaN 16 g (1 Tbsp) NaN 1.0  0.0   \n",
              "755795755719 http://world-en.openfoodfacts.org/product/07557... usda-ndb-import 1489061941 2017-03-09T12:19:01Z 1489061941 2017-03-09T12:19:01Z S, Garlic Marinade       NaN NaN NaN NaN Kinder,  P.K. Kinder Co.  Inc. kinder,p-k-kinder-co-inc NaN NaN NaN NaN NaN NaN NaN NaN NaN NaN NaN NaN NaN NaN NaN NaN NaN US en:united-states United States Soy sauce (water, soybeans, wheat and salt), wa... NaN NaN NaN NaN NaN 16 g (1 Tbsp) NaN 1.0  0.0   \n",
              "755795755726 http://world-en.openfoodfacts.org/product/07557... usda-ndb-import 1489061532 2017-03-09T12:12:12Z 1489061532 2017-03-09T12:12:12Z Roasted Garlic Bbq Sauce NaN NaN NaN NaN Kinder's                       kinder-s                 NaN NaN NaN NaN NaN NaN NaN NaN NaN NaN NaN NaN NaN NaN NaN NaN NaN US en:united-states United States Tomato puree (water tomato paste), dark brown s... NaN NaN NaN NaN NaN 34 g (2 Tbsp) NaN 2.0  0.0   \n",
              "\n",
              "                                                                                                                                                                                                                                                                                                                                                                                                                                                     Unnamed: 7  \\\n",
              "755795755641 http://world-en.openfoodfacts.org/product/07557... usda-ndb-import 1489061535 2017-03-09T12:12:15Z 1489061535 2017-03-09T12:12:15Z Hot Bbq Sauce            NaN NaN NaN NaN Kinder's                       kinder-s                 NaN NaN NaN NaN NaN NaN NaN NaN NaN NaN NaN NaN NaN NaN NaN NaN NaN US en:united-states United States Tomato puree (water, toamto paste), brown sugar... NaN NaN NaN NaN NaN 34 g (2 Tbsp) NaN 2.0         NaN   \n",
              "755795755665 http://world-en.openfoodfacts.org/product/07557... usda-ndb-import 1489061937 2017-03-09T12:18:57Z 1489061937 2017-03-09T12:18:57Z S, Exxxtra Hot Bbq Sauce NaN NaN NaN NaN Kinder,  P.K. Kinder Co.  Inc. kinder,p-k-kinder-co-inc NaN NaN NaN NaN NaN NaN NaN NaN NaN NaN NaN NaN NaN NaN NaN NaN NaN US en:united-states United States Tomato puree (water, tomato paste), dark brown ... NaN NaN NaN NaN NaN 34 g (2 Tbsp) NaN 2.0         NaN   \n",
              "755795755702 http://world-en.openfoodfacts.org/product/07557... usda-ndb-import 1489061936 2017-03-09T12:18:56Z 1489061936 2017-03-09T12:18:56Z S, Original Marinade     NaN NaN NaN NaN Kinder,  P.K. Kinder Co.  Inc. kinder,p-k-kinder-co-inc NaN NaN NaN NaN NaN NaN NaN NaN NaN NaN NaN NaN NaN NaN NaN NaN NaN US en:united-states United States Soy sauce (water, soybeans, wheat and salt), wa... NaN NaN NaN NaN NaN 16 g (1 Tbsp) NaN 1.0         NaN   \n",
              "755795755719 http://world-en.openfoodfacts.org/product/07557... usda-ndb-import 1489061941 2017-03-09T12:19:01Z 1489061941 2017-03-09T12:19:01Z S, Garlic Marinade       NaN NaN NaN NaN Kinder,  P.K. Kinder Co.  Inc. kinder,p-k-kinder-co-inc NaN NaN NaN NaN NaN NaN NaN NaN NaN NaN NaN NaN NaN NaN NaN NaN NaN US en:united-states United States Soy sauce (water, soybeans, wheat and salt), wa... NaN NaN NaN NaN NaN 16 g (1 Tbsp) NaN 1.0         NaN   \n",
              "755795755726 http://world-en.openfoodfacts.org/product/07557... usda-ndb-import 1489061532 2017-03-09T12:12:12Z 1489061532 2017-03-09T12:12:12Z Roasted Garlic Bbq Sauce NaN NaN NaN NaN Kinder's                       kinder-s                 NaN NaN NaN NaN NaN NaN NaN NaN NaN NaN NaN NaN NaN NaN NaN NaN NaN US en:united-states United States Tomato puree (water tomato paste), dark brown s... NaN NaN NaN NaN NaN 34 g (2 Tbsp) NaN 2.0         NaN   \n",
              "\n",
              "                                                                                                                                                                                                                                                                                                                                                                                                                                                    Unnamed: 8  \\\n",
              "755795755641 http://world-en.openfoodfacts.org/product/07557... usda-ndb-import 1489061535 2017-03-09T12:12:15Z 1489061535 2017-03-09T12:12:15Z Hot Bbq Sauce            NaN NaN NaN NaN Kinder's                       kinder-s                 NaN NaN NaN NaN NaN NaN NaN NaN NaN NaN NaN NaN NaN NaN NaN NaN NaN US en:united-states United States Tomato puree (water, toamto paste), brown sugar... NaN NaN NaN NaN NaN 34 g (2 Tbsp) NaN 2.0        NaN   \n",
              "755795755665 http://world-en.openfoodfacts.org/product/07557... usda-ndb-import 1489061937 2017-03-09T12:18:57Z 1489061937 2017-03-09T12:18:57Z S, Exxxtra Hot Bbq Sauce NaN NaN NaN NaN Kinder,  P.K. Kinder Co.  Inc. kinder,p-k-kinder-co-inc NaN NaN NaN NaN NaN NaN NaN NaN NaN NaN NaN NaN NaN NaN NaN NaN NaN US en:united-states United States Tomato puree (water, tomato paste), dark brown ... NaN NaN NaN NaN NaN 34 g (2 Tbsp) NaN 2.0        NaN   \n",
              "755795755702 http://world-en.openfoodfacts.org/product/07557... usda-ndb-import 1489061936 2017-03-09T12:18:56Z 1489061936 2017-03-09T12:18:56Z S, Original Marinade     NaN NaN NaN NaN Kinder,  P.K. Kinder Co.  Inc. kinder,p-k-kinder-co-inc NaN NaN NaN NaN NaN NaN NaN NaN NaN NaN NaN NaN NaN NaN NaN NaN NaN US en:united-states United States Soy sauce (water, soybeans, wheat and salt), wa... NaN NaN NaN NaN NaN 16 g (1 Tbsp) NaN 1.0        NaN   \n",
              "755795755719 http://world-en.openfoodfacts.org/product/07557... usda-ndb-import 1489061941 2017-03-09T12:19:01Z 1489061941 2017-03-09T12:19:01Z S, Garlic Marinade       NaN NaN NaN NaN Kinder,  P.K. Kinder Co.  Inc. kinder,p-k-kinder-co-inc NaN NaN NaN NaN NaN NaN NaN NaN NaN NaN NaN NaN NaN NaN NaN NaN NaN US en:united-states United States Soy sauce (water, soybeans, wheat and salt), wa... NaN NaN NaN NaN NaN 16 g (1 Tbsp) NaN 1.0        NaN   \n",
              "755795755726 http://world-en.openfoodfacts.org/product/07557... usda-ndb-import 1489061532 2017-03-09T12:12:12Z 1489061532 2017-03-09T12:12:12Z Roasted Garlic Bbq Sauce NaN NaN NaN NaN Kinder's                       kinder-s                 NaN NaN NaN NaN NaN NaN NaN NaN NaN NaN NaN NaN NaN NaN NaN NaN NaN US en:united-states United States Tomato puree (water tomato paste), dark brown s... NaN NaN NaN NaN NaN 34 g (2 Tbsp) NaN 2.0        NaN   \n",
              "\n",
              "                                                                                                                                                                                                                                                                                                                                                                                                                                                     Unnamed: 9  \\\n",
              "755795755641 http://world-en.openfoodfacts.org/product/07557... usda-ndb-import 1489061535 2017-03-09T12:12:15Z 1489061535 2017-03-09T12:12:15Z Hot Bbq Sauce            NaN NaN NaN NaN Kinder's                       kinder-s                 NaN NaN NaN NaN NaN NaN NaN NaN NaN NaN NaN NaN NaN NaN NaN NaN NaN US en:united-states United States Tomato puree (water, toamto paste), brown sugar... NaN NaN NaN NaN NaN 34 g (2 Tbsp) NaN 2.0         NaN   \n",
              "755795755665 http://world-en.openfoodfacts.org/product/07557... usda-ndb-import 1489061937 2017-03-09T12:18:57Z 1489061937 2017-03-09T12:18:57Z S, Exxxtra Hot Bbq Sauce NaN NaN NaN NaN Kinder,  P.K. Kinder Co.  Inc. kinder,p-k-kinder-co-inc NaN NaN NaN NaN NaN NaN NaN NaN NaN NaN NaN NaN NaN NaN NaN NaN NaN US en:united-states United States Tomato puree (water, tomato paste), dark brown ... NaN NaN NaN NaN NaN 34 g (2 Tbsp) NaN 2.0         NaN   \n",
              "755795755702 http://world-en.openfoodfacts.org/product/07557... usda-ndb-import 1489061936 2017-03-09T12:18:56Z 1489061936 2017-03-09T12:18:56Z S, Original Marinade     NaN NaN NaN NaN Kinder,  P.K. Kinder Co.  Inc. kinder,p-k-kinder-co-inc NaN NaN NaN NaN NaN NaN NaN NaN NaN NaN NaN NaN NaN NaN NaN NaN NaN US en:united-states United States Soy sauce (water, soybeans, wheat and salt), wa... NaN NaN NaN NaN NaN 16 g (1 Tbsp) NaN 1.0         NaN   \n",
              "755795755719 http://world-en.openfoodfacts.org/product/07557... usda-ndb-import 1489061941 2017-03-09T12:19:01Z 1489061941 2017-03-09T12:19:01Z S, Garlic Marinade       NaN NaN NaN NaN Kinder,  P.K. Kinder Co.  Inc. kinder,p-k-kinder-co-inc NaN NaN NaN NaN NaN NaN NaN NaN NaN NaN NaN NaN NaN NaN NaN NaN NaN US en:united-states United States Soy sauce (water, soybeans, wheat and salt), wa... NaN NaN NaN NaN NaN 16 g (1 Tbsp) NaN 1.0         NaN   \n",
              "755795755726 http://world-en.openfoodfacts.org/product/07557... usda-ndb-import 1489061532 2017-03-09T12:12:12Z 1489061532 2017-03-09T12:12:12Z Roasted Garlic Bbq Sauce NaN NaN NaN NaN Kinder's                       kinder-s                 NaN NaN NaN NaN NaN NaN NaN NaN NaN NaN NaN NaN NaN NaN NaN NaN NaN US en:united-states United States Tomato puree (water tomato paste), dark brown s... NaN NaN NaN NaN NaN 34 g (2 Tbsp) NaN 2.0         NaN   \n",
              "\n",
              "                                                                                                                                                                                                                                                                                                                                                                                                                                                     ...  \\\n",
              "755795755641 http://world-en.openfoodfacts.org/product/07557... usda-ndb-import 1489061535 2017-03-09T12:12:15Z 1489061535 2017-03-09T12:12:15Z Hot Bbq Sauce            NaN NaN NaN NaN Kinder's                       kinder-s                 NaN NaN NaN NaN NaN NaN NaN NaN NaN NaN NaN NaN NaN NaN NaN NaN NaN US en:united-states United States Tomato puree (water, toamto paste), brown sugar... NaN NaN NaN NaN NaN 34 g (2 Tbsp) NaN 2.0  ...   \n",
              "755795755665 http://world-en.openfoodfacts.org/product/07557... usda-ndb-import 1489061937 2017-03-09T12:18:57Z 1489061937 2017-03-09T12:18:57Z S, Exxxtra Hot Bbq Sauce NaN NaN NaN NaN Kinder,  P.K. Kinder Co.  Inc. kinder,p-k-kinder-co-inc NaN NaN NaN NaN NaN NaN NaN NaN NaN NaN NaN NaN NaN NaN NaN NaN NaN US en:united-states United States Tomato puree (water, tomato paste), dark brown ... NaN NaN NaN NaN NaN 34 g (2 Tbsp) NaN 2.0  ...   \n",
              "755795755702 http://world-en.openfoodfacts.org/product/07557... usda-ndb-import 1489061936 2017-03-09T12:18:56Z 1489061936 2017-03-09T12:18:56Z S, Original Marinade     NaN NaN NaN NaN Kinder,  P.K. Kinder Co.  Inc. kinder,p-k-kinder-co-inc NaN NaN NaN NaN NaN NaN NaN NaN NaN NaN NaN NaN NaN NaN NaN NaN NaN US en:united-states United States Soy sauce (water, soybeans, wheat and salt), wa... NaN NaN NaN NaN NaN 16 g (1 Tbsp) NaN 1.0  ...   \n",
              "755795755719 http://world-en.openfoodfacts.org/product/07557... usda-ndb-import 1489061941 2017-03-09T12:19:01Z 1489061941 2017-03-09T12:19:01Z S, Garlic Marinade       NaN NaN NaN NaN Kinder,  P.K. Kinder Co.  Inc. kinder,p-k-kinder-co-inc NaN NaN NaN NaN NaN NaN NaN NaN NaN NaN NaN NaN NaN NaN NaN NaN NaN US en:united-states United States Soy sauce (water, soybeans, wheat and salt), wa... NaN NaN NaN NaN NaN 16 g (1 Tbsp) NaN 1.0  ...   \n",
              "755795755726 http://world-en.openfoodfacts.org/product/07557... usda-ndb-import 1489061532 2017-03-09T12:12:12Z 1489061532 2017-03-09T12:12:12Z Roasted Garlic Bbq Sauce NaN NaN NaN NaN Kinder's                       kinder-s                 NaN NaN NaN NaN NaN NaN NaN NaN NaN NaN NaN NaN NaN NaN NaN NaN NaN US en:united-states United States Tomato puree (water tomato paste), dark brown s... NaN NaN NaN NaN NaN 34 g (2 Tbsp) NaN 2.0  ...   \n",
              "\n",
              "                                                                                                                                                                                                                                                                                                                                                                                                                                                    Unnamed: 110  \\\n",
              "755795755641 http://world-en.openfoodfacts.org/product/07557... usda-ndb-import 1489061535 2017-03-09T12:12:15Z 1489061535 2017-03-09T12:12:15Z Hot Bbq Sauce            NaN NaN NaN NaN Kinder's                       kinder-s                 NaN NaN NaN NaN NaN NaN NaN NaN NaN NaN NaN NaN NaN NaN NaN NaN NaN US en:united-states United States Tomato puree (water, toamto paste), brown sugar... NaN NaN NaN NaN NaN 34 g (2 Tbsp) NaN 2.0          NaN   \n",
              "755795755665 http://world-en.openfoodfacts.org/product/07557... usda-ndb-import 1489061937 2017-03-09T12:18:57Z 1489061937 2017-03-09T12:18:57Z S, Exxxtra Hot Bbq Sauce NaN NaN NaN NaN Kinder,  P.K. Kinder Co.  Inc. kinder,p-k-kinder-co-inc NaN NaN NaN NaN NaN NaN NaN NaN NaN NaN NaN NaN NaN NaN NaN NaN NaN US en:united-states United States Tomato puree (water, tomato paste), dark brown ... NaN NaN NaN NaN NaN 34 g (2 Tbsp) NaN 2.0          NaN   \n",
              "755795755702 http://world-en.openfoodfacts.org/product/07557... usda-ndb-import 1489061936 2017-03-09T12:18:56Z 1489061936 2017-03-09T12:18:56Z S, Original Marinade     NaN NaN NaN NaN Kinder,  P.K. Kinder Co.  Inc. kinder,p-k-kinder-co-inc NaN NaN NaN NaN NaN NaN NaN NaN NaN NaN NaN NaN NaN NaN NaN NaN NaN US en:united-states United States Soy sauce (water, soybeans, wheat and salt), wa... NaN NaN NaN NaN NaN 16 g (1 Tbsp) NaN 1.0          NaN   \n",
              "755795755719 http://world-en.openfoodfacts.org/product/07557... usda-ndb-import 1489061941 2017-03-09T12:19:01Z 1489061941 2017-03-09T12:19:01Z S, Garlic Marinade       NaN NaN NaN NaN Kinder,  P.K. Kinder Co.  Inc. kinder,p-k-kinder-co-inc NaN NaN NaN NaN NaN NaN NaN NaN NaN NaN NaN NaN NaN NaN NaN NaN NaN US en:united-states United States Soy sauce (water, soybeans, wheat and salt), wa... NaN NaN NaN NaN NaN 16 g (1 Tbsp) NaN 1.0          NaN   \n",
              "755795755726 http://world-en.openfoodfacts.org/product/07557... usda-ndb-import 1489061532 2017-03-09T12:12:12Z 1489061532 2017-03-09T12:12:12Z Roasted Garlic Bbq Sauce NaN NaN NaN NaN Kinder's                       kinder-s                 NaN NaN NaN NaN NaN NaN NaN NaN NaN NaN NaN NaN NaN NaN NaN NaN NaN US en:united-states United States Tomato puree (water tomato paste), dark brown s... NaN NaN NaN NaN NaN 34 g (2 Tbsp) NaN 2.0          NaN   \n",
              "\n",
              "                                                                                                                                                                                                                                                                                                                                                                                                                                                    Unnamed: 111  \\\n",
              "755795755641 http://world-en.openfoodfacts.org/product/07557... usda-ndb-import 1489061535 2017-03-09T12:12:15Z 1489061535 2017-03-09T12:12:15Z Hot Bbq Sauce            NaN NaN NaN NaN Kinder's                       kinder-s                 NaN NaN NaN NaN NaN NaN NaN NaN NaN NaN NaN NaN NaN NaN NaN NaN NaN US en:united-states United States Tomato puree (water, toamto paste), brown sugar... NaN NaN NaN NaN NaN 34 g (2 Tbsp) NaN 2.0          NaN   \n",
              "755795755665 http://world-en.openfoodfacts.org/product/07557... usda-ndb-import 1489061937 2017-03-09T12:18:57Z 1489061937 2017-03-09T12:18:57Z S, Exxxtra Hot Bbq Sauce NaN NaN NaN NaN Kinder,  P.K. Kinder Co.  Inc. kinder,p-k-kinder-co-inc NaN NaN NaN NaN NaN NaN NaN NaN NaN NaN NaN NaN NaN NaN NaN NaN NaN US en:united-states United States Tomato puree (water, tomato paste), dark brown ... NaN NaN NaN NaN NaN 34 g (2 Tbsp) NaN 2.0          NaN   \n",
              "755795755702 http://world-en.openfoodfacts.org/product/07557... usda-ndb-import 1489061936 2017-03-09T12:18:56Z 1489061936 2017-03-09T12:18:56Z S, Original Marinade     NaN NaN NaN NaN Kinder,  P.K. Kinder Co.  Inc. kinder,p-k-kinder-co-inc NaN NaN NaN NaN NaN NaN NaN NaN NaN NaN NaN NaN NaN NaN NaN NaN NaN US en:united-states United States Soy sauce (water, soybeans, wheat and salt), wa... NaN NaN NaN NaN NaN 16 g (1 Tbsp) NaN 1.0          NaN   \n",
              "755795755719 http://world-en.openfoodfacts.org/product/07557... usda-ndb-import 1489061941 2017-03-09T12:19:01Z 1489061941 2017-03-09T12:19:01Z S, Garlic Marinade       NaN NaN NaN NaN Kinder,  P.K. Kinder Co.  Inc. kinder,p-k-kinder-co-inc NaN NaN NaN NaN NaN NaN NaN NaN NaN NaN NaN NaN NaN NaN NaN NaN NaN US en:united-states United States Soy sauce (water, soybeans, wheat and salt), wa... NaN NaN NaN NaN NaN 16 g (1 Tbsp) NaN 1.0          NaN   \n",
              "755795755726 http://world-en.openfoodfacts.org/product/07557... usda-ndb-import 1489061532 2017-03-09T12:12:12Z 1489061532 2017-03-09T12:12:12Z Roasted Garlic Bbq Sauce NaN NaN NaN NaN Kinder's                       kinder-s                 NaN NaN NaN NaN NaN NaN NaN NaN NaN NaN NaN NaN NaN NaN NaN NaN NaN US en:united-states United States Tomato puree (water tomato paste), dark brown s... NaN NaN NaN NaN NaN 34 g (2 Tbsp) NaN 2.0          NaN   \n",
              "\n",
              "                                                                                                                                                                                                                                                                                                                                                                                                                                                    Unnamed: 112  \\\n",
              "755795755641 http://world-en.openfoodfacts.org/product/07557... usda-ndb-import 1489061535 2017-03-09T12:12:15Z 1489061535 2017-03-09T12:12:15Z Hot Bbq Sauce            NaN NaN NaN NaN Kinder's                       kinder-s                 NaN NaN NaN NaN NaN NaN NaN NaN NaN NaN NaN NaN NaN NaN NaN NaN NaN US en:united-states United States Tomato puree (water, toamto paste), brown sugar... NaN NaN NaN NaN NaN 34 g (2 Tbsp) NaN 2.0          NaN   \n",
              "755795755665 http://world-en.openfoodfacts.org/product/07557... usda-ndb-import 1489061937 2017-03-09T12:18:57Z 1489061937 2017-03-09T12:18:57Z S, Exxxtra Hot Bbq Sauce NaN NaN NaN NaN Kinder,  P.K. Kinder Co.  Inc. kinder,p-k-kinder-co-inc NaN NaN NaN NaN NaN NaN NaN NaN NaN NaN NaN NaN NaN NaN NaN NaN NaN US en:united-states United States Tomato puree (water, tomato paste), dark brown ... NaN NaN NaN NaN NaN 34 g (2 Tbsp) NaN 2.0          NaN   \n",
              "755795755702 http://world-en.openfoodfacts.org/product/07557... usda-ndb-import 1489061936 2017-03-09T12:18:56Z 1489061936 2017-03-09T12:18:56Z S, Original Marinade     NaN NaN NaN NaN Kinder,  P.K. Kinder Co.  Inc. kinder,p-k-kinder-co-inc NaN NaN NaN NaN NaN NaN NaN NaN NaN NaN NaN NaN NaN NaN NaN NaN NaN US en:united-states United States Soy sauce (water, soybeans, wheat and salt), wa... NaN NaN NaN NaN NaN 16 g (1 Tbsp) NaN 1.0          NaN   \n",
              "755795755719 http://world-en.openfoodfacts.org/product/07557... usda-ndb-import 1489061941 2017-03-09T12:19:01Z 1489061941 2017-03-09T12:19:01Z S, Garlic Marinade       NaN NaN NaN NaN Kinder,  P.K. Kinder Co.  Inc. kinder,p-k-kinder-co-inc NaN NaN NaN NaN NaN NaN NaN NaN NaN NaN NaN NaN NaN NaN NaN NaN NaN US en:united-states United States Soy sauce (water, soybeans, wheat and salt), wa... NaN NaN NaN NaN NaN 16 g (1 Tbsp) NaN 1.0          NaN   \n",
              "755795755726 http://world-en.openfoodfacts.org/product/07557... usda-ndb-import 1489061532 2017-03-09T12:12:12Z 1489061532 2017-03-09T12:12:12Z Roasted Garlic Bbq Sauce NaN NaN NaN NaN Kinder's                       kinder-s                 NaN NaN NaN NaN NaN NaN NaN NaN NaN NaN NaN NaN NaN NaN NaN NaN NaN US en:united-states United States Tomato puree (water tomato paste), dark brown s... NaN NaN NaN NaN NaN 34 g (2 Tbsp) NaN 2.0          NaN   \n",
              "\n",
              "                                                                                                                                                                                                                                                                                                                                                                                                                                                    Unnamed: 113  \\\n",
              "755795755641 http://world-en.openfoodfacts.org/product/07557... usda-ndb-import 1489061535 2017-03-09T12:12:15Z 1489061535 2017-03-09T12:12:15Z Hot Bbq Sauce            NaN NaN NaN NaN Kinder's                       kinder-s                 NaN NaN NaN NaN NaN NaN NaN NaN NaN NaN NaN NaN NaN NaN NaN NaN NaN US en:united-states United States Tomato puree (water, toamto paste), brown sugar... NaN NaN NaN NaN NaN 34 g (2 Tbsp) NaN 2.0          NaN   \n",
              "755795755665 http://world-en.openfoodfacts.org/product/07557... usda-ndb-import 1489061937 2017-03-09T12:18:57Z 1489061937 2017-03-09T12:18:57Z S, Exxxtra Hot Bbq Sauce NaN NaN NaN NaN Kinder,  P.K. Kinder Co.  Inc. kinder,p-k-kinder-co-inc NaN NaN NaN NaN NaN NaN NaN NaN NaN NaN NaN NaN NaN NaN NaN NaN NaN US en:united-states United States Tomato puree (water, tomato paste), dark brown ... NaN NaN NaN NaN NaN 34 g (2 Tbsp) NaN 2.0          NaN   \n",
              "755795755702 http://world-en.openfoodfacts.org/product/07557... usda-ndb-import 1489061936 2017-03-09T12:18:56Z 1489061936 2017-03-09T12:18:56Z S, Original Marinade     NaN NaN NaN NaN Kinder,  P.K. Kinder Co.  Inc. kinder,p-k-kinder-co-inc NaN NaN NaN NaN NaN NaN NaN NaN NaN NaN NaN NaN NaN NaN NaN NaN NaN US en:united-states United States Soy sauce (water, soybeans, wheat and salt), wa... NaN NaN NaN NaN NaN 16 g (1 Tbsp) NaN 1.0          NaN   \n",
              "755795755719 http://world-en.openfoodfacts.org/product/07557... usda-ndb-import 1489061941 2017-03-09T12:19:01Z 1489061941 2017-03-09T12:19:01Z S, Garlic Marinade       NaN NaN NaN NaN Kinder,  P.K. Kinder Co.  Inc. kinder,p-k-kinder-co-inc NaN NaN NaN NaN NaN NaN NaN NaN NaN NaN NaN NaN NaN NaN NaN NaN NaN US en:united-states United States Soy sauce (water, soybeans, wheat and salt), wa... NaN NaN NaN NaN NaN 16 g (1 Tbsp) NaN 1.0          NaN   \n",
              "755795755726 http://world-en.openfoodfacts.org/product/07557... usda-ndb-import 1489061532 2017-03-09T12:12:12Z 1489061532 2017-03-09T12:12:12Z Roasted Garlic Bbq Sauce NaN NaN NaN NaN Kinder's                       kinder-s                 NaN NaN NaN NaN NaN NaN NaN NaN NaN NaN NaN NaN NaN NaN NaN NaN NaN US en:united-states United States Tomato puree (water tomato paste), dark brown s... NaN NaN NaN NaN NaN 34 g (2 Tbsp) NaN 2.0          NaN   \n",
              "\n",
              "                                                                                                                                                                                                                                                                                                                                                                                                                                                    Unnamed: 114  \\\n",
              "755795755641 http://world-en.openfoodfacts.org/product/07557... usda-ndb-import 1489061535 2017-03-09T12:12:15Z 1489061535 2017-03-09T12:12:15Z Hot Bbq Sauce            NaN NaN NaN NaN Kinder's                       kinder-s                 NaN NaN NaN NaN NaN NaN NaN NaN NaN NaN NaN NaN NaN NaN NaN NaN NaN US en:united-states United States Tomato puree (water, toamto paste), brown sugar... NaN NaN NaN NaN NaN 34 g (2 Tbsp) NaN 2.0          NaN   \n",
              "755795755665 http://world-en.openfoodfacts.org/product/07557... usda-ndb-import 1489061937 2017-03-09T12:18:57Z 1489061937 2017-03-09T12:18:57Z S, Exxxtra Hot Bbq Sauce NaN NaN NaN NaN Kinder,  P.K. Kinder Co.  Inc. kinder,p-k-kinder-co-inc NaN NaN NaN NaN NaN NaN NaN NaN NaN NaN NaN NaN NaN NaN NaN NaN NaN US en:united-states United States Tomato puree (water, tomato paste), dark brown ... NaN NaN NaN NaN NaN 34 g (2 Tbsp) NaN 2.0          NaN   \n",
              "755795755702 http://world-en.openfoodfacts.org/product/07557... usda-ndb-import 1489061936 2017-03-09T12:18:56Z 1489061936 2017-03-09T12:18:56Z S, Original Marinade     NaN NaN NaN NaN Kinder,  P.K. Kinder Co.  Inc. kinder,p-k-kinder-co-inc NaN NaN NaN NaN NaN NaN NaN NaN NaN NaN NaN NaN NaN NaN NaN NaN NaN US en:united-states United States Soy sauce (water, soybeans, wheat and salt), wa... NaN NaN NaN NaN NaN 16 g (1 Tbsp) NaN 1.0          NaN   \n",
              "755795755719 http://world-en.openfoodfacts.org/product/07557... usda-ndb-import 1489061941 2017-03-09T12:19:01Z 1489061941 2017-03-09T12:19:01Z S, Garlic Marinade       NaN NaN NaN NaN Kinder,  P.K. Kinder Co.  Inc. kinder,p-k-kinder-co-inc NaN NaN NaN NaN NaN NaN NaN NaN NaN NaN NaN NaN NaN NaN NaN NaN NaN US en:united-states United States Soy sauce (water, soybeans, wheat and salt), wa... NaN NaN NaN NaN NaN 16 g (1 Tbsp) NaN 1.0          NaN   \n",
              "755795755726 http://world-en.openfoodfacts.org/product/07557... usda-ndb-import 1489061532 2017-03-09T12:12:12Z 1489061532 2017-03-09T12:12:12Z Roasted Garlic Bbq Sauce NaN NaN NaN NaN Kinder's                       kinder-s                 NaN NaN NaN NaN NaN NaN NaN NaN NaN NaN NaN NaN NaN NaN NaN NaN NaN US en:united-states United States Tomato puree (water tomato paste), dark brown s... NaN NaN NaN NaN NaN 34 g (2 Tbsp) NaN 2.0          NaN   \n",
              "\n",
              "                                                                                                                                                                                                                                                                                                                                                                                                                                                    Unnamed: 115  \\\n",
              "755795755641 http://world-en.openfoodfacts.org/product/07557... usda-ndb-import 1489061535 2017-03-09T12:12:15Z 1489061535 2017-03-09T12:12:15Z Hot Bbq Sauce            NaN NaN NaN NaN Kinder's                       kinder-s                 NaN NaN NaN NaN NaN NaN NaN NaN NaN NaN NaN NaN NaN NaN NaN NaN NaN US en:united-states United States Tomato puree (water, toamto paste), brown sugar... NaN NaN NaN NaN NaN 34 g (2 Tbsp) NaN 2.0          NaN   \n",
              "755795755665 http://world-en.openfoodfacts.org/product/07557... usda-ndb-import 1489061937 2017-03-09T12:18:57Z 1489061937 2017-03-09T12:18:57Z S, Exxxtra Hot Bbq Sauce NaN NaN NaN NaN Kinder,  P.K. Kinder Co.  Inc. kinder,p-k-kinder-co-inc NaN NaN NaN NaN NaN NaN NaN NaN NaN NaN NaN NaN NaN NaN NaN NaN NaN US en:united-states United States Tomato puree (water, tomato paste), dark brown ... NaN NaN NaN NaN NaN 34 g (2 Tbsp) NaN 2.0          NaN   \n",
              "755795755702 http://world-en.openfoodfacts.org/product/07557... usda-ndb-import 1489061936 2017-03-09T12:18:56Z 1489061936 2017-03-09T12:18:56Z S, Original Marinade     NaN NaN NaN NaN Kinder,  P.K. Kinder Co.  Inc. kinder,p-k-kinder-co-inc NaN NaN NaN NaN NaN NaN NaN NaN NaN NaN NaN NaN NaN NaN NaN NaN NaN US en:united-states United States Soy sauce (water, soybeans, wheat and salt), wa... NaN NaN NaN NaN NaN 16 g (1 Tbsp) NaN 1.0          NaN   \n",
              "755795755719 http://world-en.openfoodfacts.org/product/07557... usda-ndb-import 1489061941 2017-03-09T12:19:01Z 1489061941 2017-03-09T12:19:01Z S, Garlic Marinade       NaN NaN NaN NaN Kinder,  P.K. Kinder Co.  Inc. kinder,p-k-kinder-co-inc NaN NaN NaN NaN NaN NaN NaN NaN NaN NaN NaN NaN NaN NaN NaN NaN NaN US en:united-states United States Soy sauce (water, soybeans, wheat and salt), wa... NaN NaN NaN NaN NaN 16 g (1 Tbsp) NaN 1.0          NaN   \n",
              "755795755726 http://world-en.openfoodfacts.org/product/07557... usda-ndb-import 1489061532 2017-03-09T12:12:12Z 1489061532 2017-03-09T12:12:12Z Roasted Garlic Bbq Sauce NaN NaN NaN NaN Kinder's                       kinder-s                 NaN NaN NaN NaN NaN NaN NaN NaN NaN NaN NaN NaN NaN NaN NaN NaN NaN US en:united-states United States Tomato puree (water tomato paste), dark brown s... NaN NaN NaN NaN NaN 34 g (2 Tbsp) NaN 2.0          NaN   \n",
              "\n",
              "                                                                                                                                                                                                                                                                                                                                                                                                                                                       15  \\\n",
              "755795755641 http://world-en.openfoodfacts.org/product/07557... usda-ndb-import 1489061535 2017-03-09T12:12:15Z 1489061535 2017-03-09T12:12:15Z Hot Bbq Sauce            NaN NaN NaN NaN Kinder's                       kinder-s                 NaN NaN NaN NaN NaN NaN NaN NaN NaN NaN NaN NaN NaN NaN NaN NaN NaN US en:united-states United States Tomato puree (water, toamto paste), brown sugar... NaN NaN NaN NaN NaN 34 g (2 Tbsp) NaN 2.0  20.0   \n",
              "755795755665 http://world-en.openfoodfacts.org/product/07557... usda-ndb-import 1489061937 2017-03-09T12:18:57Z 1489061937 2017-03-09T12:18:57Z S, Exxxtra Hot Bbq Sauce NaN NaN NaN NaN Kinder,  P.K. Kinder Co.  Inc. kinder,p-k-kinder-co-inc NaN NaN NaN NaN NaN NaN NaN NaN NaN NaN NaN NaN NaN NaN NaN NaN NaN US en:united-states United States Tomato puree (water, tomato paste), dark brown ... NaN NaN NaN NaN NaN 34 g (2 Tbsp) NaN 2.0  15.0   \n",
              "755795755702 http://world-en.openfoodfacts.org/product/07557... usda-ndb-import 1489061936 2017-03-09T12:18:56Z 1489061936 2017-03-09T12:18:56Z S, Original Marinade     NaN NaN NaN NaN Kinder,  P.K. Kinder Co.  Inc. kinder,p-k-kinder-co-inc NaN NaN NaN NaN NaN NaN NaN NaN NaN NaN NaN NaN NaN NaN NaN NaN NaN US en:united-states United States Soy sauce (water, soybeans, wheat and salt), wa... NaN NaN NaN NaN NaN 16 g (1 Tbsp) NaN 1.0   9.0   \n",
              "755795755719 http://world-en.openfoodfacts.org/product/07557... usda-ndb-import 1489061941 2017-03-09T12:19:01Z 1489061941 2017-03-09T12:19:01Z S, Garlic Marinade       NaN NaN NaN NaN Kinder,  P.K. Kinder Co.  Inc. kinder,p-k-kinder-co-inc NaN NaN NaN NaN NaN NaN NaN NaN NaN NaN NaN NaN NaN NaN NaN NaN NaN US en:united-states United States Soy sauce (water, soybeans, wheat and salt), wa... NaN NaN NaN NaN NaN 16 g (1 Tbsp) NaN 1.0   9.0   \n",
              "755795755726 http://world-en.openfoodfacts.org/product/07557... usda-ndb-import 1489061532 2017-03-09T12:12:12Z 1489061532 2017-03-09T12:12:12Z Roasted Garlic Bbq Sauce NaN NaN NaN NaN Kinder's                       kinder-s                 NaN NaN NaN NaN NaN NaN NaN NaN NaN NaN NaN NaN NaN NaN NaN NaN NaN US en:united-states United States Tomato puree (water tomato paste), dark brown s... NaN NaN NaN NaN NaN 34 g (2 Tbsp) NaN 2.0  16.0   \n",
              "\n",
              "                                                                                                                                                                                                                                                                                                                                                                                                                                                     15.1  \\\n",
              "755795755641 http://world-en.openfoodfacts.org/product/07557... usda-ndb-import 1489061535 2017-03-09T12:12:15Z 1489061535 2017-03-09T12:12:15Z Hot Bbq Sauce            NaN NaN NaN NaN Kinder's                       kinder-s                 NaN NaN NaN NaN NaN NaN NaN NaN NaN NaN NaN NaN NaN NaN NaN NaN NaN US en:united-states United States Tomato puree (water, toamto paste), brown sugar... NaN NaN NaN NaN NaN 34 g (2 Tbsp) NaN 2.0  20.0   \n",
              "755795755665 http://world-en.openfoodfacts.org/product/07557... usda-ndb-import 1489061937 2017-03-09T12:18:57Z 1489061937 2017-03-09T12:18:57Z S, Exxxtra Hot Bbq Sauce NaN NaN NaN NaN Kinder,  P.K. Kinder Co.  Inc. kinder,p-k-kinder-co-inc NaN NaN NaN NaN NaN NaN NaN NaN NaN NaN NaN NaN NaN NaN NaN NaN NaN US en:united-states United States Tomato puree (water, tomato paste), dark brown ... NaN NaN NaN NaN NaN 34 g (2 Tbsp) NaN 2.0  15.0   \n",
              "755795755702 http://world-en.openfoodfacts.org/product/07557... usda-ndb-import 1489061936 2017-03-09T12:18:56Z 1489061936 2017-03-09T12:18:56Z S, Original Marinade     NaN NaN NaN NaN Kinder,  P.K. Kinder Co.  Inc. kinder,p-k-kinder-co-inc NaN NaN NaN NaN NaN NaN NaN NaN NaN NaN NaN NaN NaN NaN NaN NaN NaN US en:united-states United States Soy sauce (water, soybeans, wheat and salt), wa... NaN NaN NaN NaN NaN 16 g (1 Tbsp) NaN 1.0   9.0   \n",
              "755795755719 http://world-en.openfoodfacts.org/product/07557... usda-ndb-import 1489061941 2017-03-09T12:19:01Z 1489061941 2017-03-09T12:19:01Z S, Garlic Marinade       NaN NaN NaN NaN Kinder,  P.K. Kinder Co.  Inc. kinder,p-k-kinder-co-inc NaN NaN NaN NaN NaN NaN NaN NaN NaN NaN NaN NaN NaN NaN NaN NaN NaN US en:united-states United States Soy sauce (water, soybeans, wheat and salt), wa... NaN NaN NaN NaN NaN 16 g (1 Tbsp) NaN 1.0   9.0   \n",
              "755795755726 http://world-en.openfoodfacts.org/product/07557... usda-ndb-import 1489061532 2017-03-09T12:12:12Z 1489061532 2017-03-09T12:12:12Z Roasted Garlic Bbq Sauce NaN NaN NaN NaN Kinder's                       kinder-s                 NaN NaN NaN NaN NaN NaN NaN NaN NaN NaN NaN NaN NaN NaN NaN NaN NaN US en:united-states United States Tomato puree (water tomato paste), dark brown s... NaN NaN NaN NaN NaN 34 g (2 Tbsp) NaN 2.0  16.0   \n",
              "\n",
              "                                                                                                                                                                                                                                                                                                                                                                                                                                                    Unnamed: 118  \\\n",
              "755795755641 http://world-en.openfoodfacts.org/product/07557... usda-ndb-import 1489061535 2017-03-09T12:12:15Z 1489061535 2017-03-09T12:12:15Z Hot Bbq Sauce            NaN NaN NaN NaN Kinder's                       kinder-s                 NaN NaN NaN NaN NaN NaN NaN NaN NaN NaN NaN NaN NaN NaN NaN NaN NaN US en:united-states United States Tomato puree (water, toamto paste), brown sugar... NaN NaN NaN NaN NaN 34 g (2 Tbsp) NaN 2.0          NaN   \n",
              "755795755665 http://world-en.openfoodfacts.org/product/07557... usda-ndb-import 1489061937 2017-03-09T12:18:57Z 1489061937 2017-03-09T12:18:57Z S, Exxxtra Hot Bbq Sauce NaN NaN NaN NaN Kinder,  P.K. Kinder Co.  Inc. kinder,p-k-kinder-co-inc NaN NaN NaN NaN NaN NaN NaN NaN NaN NaN NaN NaN NaN NaN NaN NaN NaN US en:united-states United States Tomato puree (water, tomato paste), dark brown ... NaN NaN NaN NaN NaN 34 g (2 Tbsp) NaN 2.0          NaN   \n",
              "755795755702 http://world-en.openfoodfacts.org/product/07557... usda-ndb-import 1489061936 2017-03-09T12:18:56Z 1489061936 2017-03-09T12:18:56Z S, Original Marinade     NaN NaN NaN NaN Kinder,  P.K. Kinder Co.  Inc. kinder,p-k-kinder-co-inc NaN NaN NaN NaN NaN NaN NaN NaN NaN NaN NaN NaN NaN NaN NaN NaN NaN US en:united-states United States Soy sauce (water, soybeans, wheat and salt), wa... NaN NaN NaN NaN NaN 16 g (1 Tbsp) NaN 1.0          NaN   \n",
              "755795755719 http://world-en.openfoodfacts.org/product/07557... usda-ndb-import 1489061941 2017-03-09T12:19:01Z 1489061941 2017-03-09T12:19:01Z S, Garlic Marinade       NaN NaN NaN NaN Kinder,  P.K. Kinder Co.  Inc. kinder,p-k-kinder-co-inc NaN NaN NaN NaN NaN NaN NaN NaN NaN NaN NaN NaN NaN NaN NaN NaN NaN US en:united-states United States Soy sauce (water, soybeans, wheat and salt), wa... NaN NaN NaN NaN NaN 16 g (1 Tbsp) NaN 1.0          NaN   \n",
              "755795755726 http://world-en.openfoodfacts.org/product/07557... usda-ndb-import 1489061532 2017-03-09T12:12:12Z 1489061532 2017-03-09T12:12:12Z Roasted Garlic Bbq Sauce NaN NaN NaN NaN Kinder's                       kinder-s                 NaN NaN NaN NaN NaN NaN NaN NaN NaN NaN NaN NaN NaN NaN NaN NaN NaN US en:united-states United States Tomato puree (water tomato paste), dark brown s... NaN NaN NaN NaN NaN 34 g (2 Tbsp) NaN 2.0          NaN   \n",
              "\n",
              "                                                                                                                                                                                                                                                                                                                                                                                                                                                    Unnamed: 119  \n",
              "755795755641 http://world-en.openfoodfacts.org/product/07557... usda-ndb-import 1489061535 2017-03-09T12:12:15Z 1489061535 2017-03-09T12:12:15Z Hot Bbq Sauce            NaN NaN NaN NaN Kinder's                       kinder-s                 NaN NaN NaN NaN NaN NaN NaN NaN NaN NaN NaN NaN NaN NaN NaN NaN NaN US en:united-states United States Tomato puree (water, toamto paste), brown sugar... NaN NaN NaN NaN NaN 34 g (2 Tbsp) NaN 2.0          NaN  \n",
              "755795755665 http://world-en.openfoodfacts.org/product/07557... usda-ndb-import 1489061937 2017-03-09T12:18:57Z 1489061937 2017-03-09T12:18:57Z S, Exxxtra Hot Bbq Sauce NaN NaN NaN NaN Kinder,  P.K. Kinder Co.  Inc. kinder,p-k-kinder-co-inc NaN NaN NaN NaN NaN NaN NaN NaN NaN NaN NaN NaN NaN NaN NaN NaN NaN US en:united-states United States Tomato puree (water, tomato paste), dark brown ... NaN NaN NaN NaN NaN 34 g (2 Tbsp) NaN 2.0          NaN  \n",
              "755795755702 http://world-en.openfoodfacts.org/product/07557... usda-ndb-import 1489061936 2017-03-09T12:18:56Z 1489061936 2017-03-09T12:18:56Z S, Original Marinade     NaN NaN NaN NaN Kinder,  P.K. Kinder Co.  Inc. kinder,p-k-kinder-co-inc NaN NaN NaN NaN NaN NaN NaN NaN NaN NaN NaN NaN NaN NaN NaN NaN NaN US en:united-states United States Soy sauce (water, soybeans, wheat and salt), wa... NaN NaN NaN NaN NaN 16 g (1 Tbsp) NaN 1.0          NaN  \n",
              "755795755719 http://world-en.openfoodfacts.org/product/07557... usda-ndb-import 1489061941 2017-03-09T12:19:01Z 1489061941 2017-03-09T12:19:01Z S, Garlic Marinade       NaN NaN NaN NaN Kinder,  P.K. Kinder Co.  Inc. kinder,p-k-kinder-co-inc NaN NaN NaN NaN NaN NaN NaN NaN NaN NaN NaN NaN NaN NaN NaN NaN NaN US en:united-states United States Soy sauce (water, soybeans, wheat and salt), wa... NaN NaN NaN NaN NaN 16 g (1 Tbsp) NaN 1.0          NaN  \n",
              "755795755726 http://world-en.openfoodfacts.org/product/07557... usda-ndb-import 1489061532 2017-03-09T12:12:12Z 1489061532 2017-03-09T12:12:12Z Roasted Garlic Bbq Sauce NaN NaN NaN NaN Kinder's                       kinder-s                 NaN NaN NaN NaN NaN NaN NaN NaN NaN NaN NaN NaN NaN NaN NaN NaN NaN US en:united-states United States Tomato puree (water tomato paste), dark brown s... NaN NaN NaN NaN NaN 34 g (2 Tbsp) NaN 2.0          NaN  \n",
              "\n",
              "[5 rows x 120 columns]"
            ],
            "text/html": [
              "\n",
              "  <div id=\"df-e6d6d657-eda4-43fa-bb38-1bfa4fb1aed0\" class=\"colab-df-container\">\n",
              "    <div>\n",
              "<style scoped>\n",
              "    .dataframe tbody tr th:only-of-type {\n",
              "        vertical-align: middle;\n",
              "    }\n",
              "\n",
              "    .dataframe tbody tr th {\n",
              "        vertical-align: top;\n",
              "    }\n",
              "\n",
              "    .dataframe thead th {\n",
              "        text-align: right;\n",
              "    }\n",
              "</style>\n",
              "<table border=\"1\" class=\"dataframe\">\n",
              "  <thead>\n",
              "    <tr style=\"text-align: right;\">\n",
              "      <th></th>\n",
              "      <th></th>\n",
              "      <th></th>\n",
              "      <th></th>\n",
              "      <th></th>\n",
              "      <th></th>\n",
              "      <th></th>\n",
              "      <th></th>\n",
              "      <th></th>\n",
              "      <th></th>\n",
              "      <th></th>\n",
              "      <th></th>\n",
              "      <th></th>\n",
              "      <th></th>\n",
              "      <th></th>\n",
              "      <th></th>\n",
              "      <th></th>\n",
              "      <th></th>\n",
              "      <th></th>\n",
              "      <th></th>\n",
              "      <th></th>\n",
              "      <th></th>\n",
              "      <th></th>\n",
              "      <th></th>\n",
              "      <th></th>\n",
              "      <th></th>\n",
              "      <th></th>\n",
              "      <th></th>\n",
              "      <th></th>\n",
              "      <th></th>\n",
              "      <th></th>\n",
              "      <th></th>\n",
              "      <th></th>\n",
              "      <th></th>\n",
              "      <th></th>\n",
              "      <th></th>\n",
              "      <th></th>\n",
              "      <th></th>\n",
              "      <th></th>\n",
              "      <th></th>\n",
              "      <th></th>\n",
              "      <th></th>\n",
              "      <th></th>\n",
              "      <th>r  ]  [ crushed-red-peppers-and-xanthan-gum -&gt; en:crushed-red-peppers-and-xanthan-gum  ]  [ red-peppers-and-xanthan-gum -&gt; en:red-peppers-and-xanthan-gum  ]  [ peppers-and-xanthan-gum -&gt; en:peppers-and-xanthan-gum  ]  [ and-xanthan-gum -&gt; en:and-xanthan-gum  ]  [ xanthan-gum -&gt; en:e415  -&gt; exists  -- ok  ]  [ a-natural-thickener -&gt; en:a-natural-thickener  ]  [ natural-thickener -&gt; en:natural-thickener  ]  [ thickener -&gt; en:thickener  ]</th>\n",
              "      <th>en:e150a,en:e415</th>\n",
              "      <th>E150a - Plain caramel,E415 - Xanthan gum</th>\n",
              "      <th>0</th>\n",
              "      <th>Unnamed: 4</th>\n",
              "      <th>Unnamed: 5</th>\n",
              "      <th>0.1</th>\n",
              "      <th>Unnamed: 7</th>\n",
              "      <th>Unnamed: 8</th>\n",
              "      <th>Unnamed: 9</th>\n",
              "      <th>...</th>\n",
              "      <th>Unnamed: 110</th>\n",
              "      <th>Unnamed: 111</th>\n",
              "      <th>Unnamed: 112</th>\n",
              "      <th>Unnamed: 113</th>\n",
              "      <th>Unnamed: 114</th>\n",
              "      <th>Unnamed: 115</th>\n",
              "      <th>15</th>\n",
              "      <th>15.1</th>\n",
              "      <th>Unnamed: 118</th>\n",
              "      <th>Unnamed: 119</th>\n",
              "    </tr>\n",
              "  </thead>\n",
              "  <tbody>\n",
              "    <tr>\n",
              "      <th>755795755641</th>\n",
              "      <th>http://world-en.openfoodfacts.org/product/0755795755641/hot-bbq-sauce-kinder-s</th>\n",
              "      <th>usda-ndb-import</th>\n",
              "      <th>1489061535</th>\n",
              "      <th>2017-03-09T12:12:15Z</th>\n",
              "      <th>1489061535</th>\n",
              "      <th>2017-03-09T12:12:15Z</th>\n",
              "      <th>Hot Bbq Sauce</th>\n",
              "      <th>NaN</th>\n",
              "      <th>NaN</th>\n",
              "      <th>NaN</th>\n",
              "      <th>NaN</th>\n",
              "      <th>Kinder's</th>\n",
              "      <th>kinder-s</th>\n",
              "      <th>NaN</th>\n",
              "      <th>NaN</th>\n",
              "      <th>NaN</th>\n",
              "      <th>NaN</th>\n",
              "      <th>NaN</th>\n",
              "      <th>NaN</th>\n",
              "      <th>NaN</th>\n",
              "      <th>NaN</th>\n",
              "      <th>NaN</th>\n",
              "      <th>NaN</th>\n",
              "      <th>NaN</th>\n",
              "      <th>NaN</th>\n",
              "      <th>NaN</th>\n",
              "      <th>NaN</th>\n",
              "      <th>NaN</th>\n",
              "      <th>NaN</th>\n",
              "      <th>NaN</th>\n",
              "      <th>US</th>\n",
              "      <th>en:united-states</th>\n",
              "      <th>United States</th>\n",
              "      <th>Tomato puree (water, toamto paste), brown sugar, sugar, natural hickory smoke flavor, distilled vinegar, salt, corn starch, worcestershire sauce (vinegar, molasses, corn syrup, water, salt, caramel color, garlic powder, sugar, spices, tamarind, natural flavor), onion powder, garlic powder, crushed red pepper, habanero peppers, xanthan gum (a natural thickener).</th>\n",
              "      <th>NaN</th>\n",
              "      <th>NaN</th>\n",
              "      <th>NaN</th>\n",
              "      <th>NaN</th>\n",
              "      <th>NaN</th>\n",
              "      <th>34 g (2 Tbsp)</th>\n",
              "      <th>NaN</th>\n",
              "      <th>2.0</th>\n",
              "      <td>[ tomato-puree -&gt; en:tomato-puree  ]  [ puree...</td>\n",
              "      <td>en:e150a,en:e415</td>\n",
              "      <td>E150a - Plain caramel,E415 - Xanthan gum</td>\n",
              "      <td>0.0</td>\n",
              "      <td>NaN</td>\n",
              "      <td>NaN</td>\n",
              "      <td>0.0</td>\n",
              "      <td>NaN</td>\n",
              "      <td>NaN</td>\n",
              "      <td>NaN</td>\n",
              "      <td>...</td>\n",
              "      <td>NaN</td>\n",
              "      <td>NaN</td>\n",
              "      <td>NaN</td>\n",
              "      <td>NaN</td>\n",
              "      <td>NaN</td>\n",
              "      <td>NaN</td>\n",
              "      <td>20.0</td>\n",
              "      <td>20.0</td>\n",
              "      <td>NaN</td>\n",
              "      <td>NaN</td>\n",
              "    </tr>\n",
              "    <tr>\n",
              "      <th>755795755665</th>\n",
              "      <th>http://world-en.openfoodfacts.org/product/0755795755665/s-exxxtra-hot-bbq-sauce-kinder</th>\n",
              "      <th>usda-ndb-import</th>\n",
              "      <th>1489061937</th>\n",
              "      <th>2017-03-09T12:18:57Z</th>\n",
              "      <th>1489061937</th>\n",
              "      <th>2017-03-09T12:18:57Z</th>\n",
              "      <th>S, Exxxtra Hot Bbq Sauce</th>\n",
              "      <th>NaN</th>\n",
              "      <th>NaN</th>\n",
              "      <th>NaN</th>\n",
              "      <th>NaN</th>\n",
              "      <th>Kinder,  P.K. Kinder Co.  Inc.</th>\n",
              "      <th>kinder,p-k-kinder-co-inc</th>\n",
              "      <th>NaN</th>\n",
              "      <th>NaN</th>\n",
              "      <th>NaN</th>\n",
              "      <th>NaN</th>\n",
              "      <th>NaN</th>\n",
              "      <th>NaN</th>\n",
              "      <th>NaN</th>\n",
              "      <th>NaN</th>\n",
              "      <th>NaN</th>\n",
              "      <th>NaN</th>\n",
              "      <th>NaN</th>\n",
              "      <th>NaN</th>\n",
              "      <th>NaN</th>\n",
              "      <th>NaN</th>\n",
              "      <th>NaN</th>\n",
              "      <th>NaN</th>\n",
              "      <th>NaN</th>\n",
              "      <th>US</th>\n",
              "      <th>en:united-states</th>\n",
              "      <th>United States</th>\n",
              "      <th>Tomato puree (water, tomato paste), dark brown sugar, sugar, white vinegar, natural hickory smoke flavor, salt, corn starch, worcestershire sauce (vinegar, water, molasses, corn syrup, salt, caramel color, sugar, tamarind, spices), habanero peppers, crushed red peppers, onion powder, garlic powder, xanthan gum (a natural thickener).</th>\n",
              "      <th>NaN</th>\n",
              "      <th>NaN</th>\n",
              "      <th>NaN</th>\n",
              "      <th>NaN</th>\n",
              "      <th>NaN</th>\n",
              "      <th>34 g (2 Tbsp)</th>\n",
              "      <th>NaN</th>\n",
              "      <th>2.0</th>\n",
              "      <td>[ tomato-puree -&gt; en:tomato-puree  ]  [ puree...</td>\n",
              "      <td>en:e150a,en:e415</td>\n",
              "      <td>E150a - Plain caramel,E415 - Xanthan gum</td>\n",
              "      <td>0.0</td>\n",
              "      <td>NaN</td>\n",
              "      <td>NaN</td>\n",
              "      <td>0.0</td>\n",
              "      <td>NaN</td>\n",
              "      <td>NaN</td>\n",
              "      <td>NaN</td>\n",
              "      <td>...</td>\n",
              "      <td>NaN</td>\n",
              "      <td>NaN</td>\n",
              "      <td>NaN</td>\n",
              "      <td>NaN</td>\n",
              "      <td>NaN</td>\n",
              "      <td>NaN</td>\n",
              "      <td>15.0</td>\n",
              "      <td>15.0</td>\n",
              "      <td>NaN</td>\n",
              "      <td>NaN</td>\n",
              "    </tr>\n",
              "    <tr>\n",
              "      <th>755795755702</th>\n",
              "      <th>http://world-en.openfoodfacts.org/product/0755795755702/s-original-marinade-kinder</th>\n",
              "      <th>usda-ndb-import</th>\n",
              "      <th>1489061936</th>\n",
              "      <th>2017-03-09T12:18:56Z</th>\n",
              "      <th>1489061936</th>\n",
              "      <th>2017-03-09T12:18:56Z</th>\n",
              "      <th>S, Original Marinade</th>\n",
              "      <th>NaN</th>\n",
              "      <th>NaN</th>\n",
              "      <th>NaN</th>\n",
              "      <th>NaN</th>\n",
              "      <th>Kinder,  P.K. Kinder Co.  Inc.</th>\n",
              "      <th>kinder,p-k-kinder-co-inc</th>\n",
              "      <th>NaN</th>\n",
              "      <th>NaN</th>\n",
              "      <th>NaN</th>\n",
              "      <th>NaN</th>\n",
              "      <th>NaN</th>\n",
              "      <th>NaN</th>\n",
              "      <th>NaN</th>\n",
              "      <th>NaN</th>\n",
              "      <th>NaN</th>\n",
              "      <th>NaN</th>\n",
              "      <th>NaN</th>\n",
              "      <th>NaN</th>\n",
              "      <th>NaN</th>\n",
              "      <th>NaN</th>\n",
              "      <th>NaN</th>\n",
              "      <th>NaN</th>\n",
              "      <th>NaN</th>\n",
              "      <th>US</th>\n",
              "      <th>en:united-states</th>\n",
              "      <th>United States</th>\n",
              "      <th>Soy sauce (water, soybeans, wheat and salt), water, soybean oil. garlic, black pepper, lemon juice, parsley and xanthan gum (a natural thickener).</th>\n",
              "      <th>NaN</th>\n",
              "      <th>NaN</th>\n",
              "      <th>NaN</th>\n",
              "      <th>NaN</th>\n",
              "      <th>NaN</th>\n",
              "      <th>16 g (1 Tbsp)</th>\n",
              "      <th>NaN</th>\n",
              "      <th>1.0</th>\n",
              "      <td>[ soy-sauce -&gt; en:soy-sauce  ]  [ sauce -&gt; en...</td>\n",
              "      <td>en:e415</td>\n",
              "      <td>E415 - Xanthan gum</td>\n",
              "      <td>0.0</td>\n",
              "      <td>NaN</td>\n",
              "      <td>NaN</td>\n",
              "      <td>0.0</td>\n",
              "      <td>NaN</td>\n",
              "      <td>NaN</td>\n",
              "      <td>NaN</td>\n",
              "      <td>...</td>\n",
              "      <td>NaN</td>\n",
              "      <td>NaN</td>\n",
              "      <td>NaN</td>\n",
              "      <td>NaN</td>\n",
              "      <td>NaN</td>\n",
              "      <td>NaN</td>\n",
              "      <td>9.0</td>\n",
              "      <td>9.0</td>\n",
              "      <td>NaN</td>\n",
              "      <td>NaN</td>\n",
              "    </tr>\n",
              "    <tr>\n",
              "      <th>755795755719</th>\n",
              "      <th>http://world-en.openfoodfacts.org/product/0755795755719/s-garlic-marinade-kinder</th>\n",
              "      <th>usda-ndb-import</th>\n",
              "      <th>1489061941</th>\n",
              "      <th>2017-03-09T12:19:01Z</th>\n",
              "      <th>1489061941</th>\n",
              "      <th>2017-03-09T12:19:01Z</th>\n",
              "      <th>S, Garlic Marinade</th>\n",
              "      <th>NaN</th>\n",
              "      <th>NaN</th>\n",
              "      <th>NaN</th>\n",
              "      <th>NaN</th>\n",
              "      <th>Kinder,  P.K. Kinder Co.  Inc.</th>\n",
              "      <th>kinder,p-k-kinder-co-inc</th>\n",
              "      <th>NaN</th>\n",
              "      <th>NaN</th>\n",
              "      <th>NaN</th>\n",
              "      <th>NaN</th>\n",
              "      <th>NaN</th>\n",
              "      <th>NaN</th>\n",
              "      <th>NaN</th>\n",
              "      <th>NaN</th>\n",
              "      <th>NaN</th>\n",
              "      <th>NaN</th>\n",
              "      <th>NaN</th>\n",
              "      <th>NaN</th>\n",
              "      <th>NaN</th>\n",
              "      <th>NaN</th>\n",
              "      <th>NaN</th>\n",
              "      <th>NaN</th>\n",
              "      <th>NaN</th>\n",
              "      <th>US</th>\n",
              "      <th>en:united-states</th>\n",
              "      <th>United States</th>\n",
              "      <th>Soy sauce (water, soybeans, wheat and salt), water, garlic, soybean oil, black pepper, lemon juice, parsley and xanthan gum (a natural thickener).</th>\n",
              "      <th>NaN</th>\n",
              "      <th>NaN</th>\n",
              "      <th>NaN</th>\n",
              "      <th>NaN</th>\n",
              "      <th>NaN</th>\n",
              "      <th>16 g (1 Tbsp)</th>\n",
              "      <th>NaN</th>\n",
              "      <th>1.0</th>\n",
              "      <td>[ soy-sauce -&gt; en:soy-sauce  ]  [ sauce -&gt; en...</td>\n",
              "      <td>en:e415</td>\n",
              "      <td>E415 - Xanthan gum</td>\n",
              "      <td>0.0</td>\n",
              "      <td>NaN</td>\n",
              "      <td>NaN</td>\n",
              "      <td>0.0</td>\n",
              "      <td>NaN</td>\n",
              "      <td>NaN</td>\n",
              "      <td>NaN</td>\n",
              "      <td>...</td>\n",
              "      <td>NaN</td>\n",
              "      <td>NaN</td>\n",
              "      <td>NaN</td>\n",
              "      <td>NaN</td>\n",
              "      <td>NaN</td>\n",
              "      <td>NaN</td>\n",
              "      <td>9.0</td>\n",
              "      <td>9.0</td>\n",
              "      <td>NaN</td>\n",
              "      <td>NaN</td>\n",
              "    </tr>\n",
              "    <tr>\n",
              "      <th>755795755726</th>\n",
              "      <th>http://world-en.openfoodfacts.org/product/0755795755726/roasted-garlic-bbq-sauce-kinder-s</th>\n",
              "      <th>usda-ndb-import</th>\n",
              "      <th>1489061532</th>\n",
              "      <th>2017-03-09T12:12:12Z</th>\n",
              "      <th>1489061532</th>\n",
              "      <th>2017-03-09T12:12:12Z</th>\n",
              "      <th>Roasted Garlic Bbq Sauce</th>\n",
              "      <th>NaN</th>\n",
              "      <th>NaN</th>\n",
              "      <th>NaN</th>\n",
              "      <th>NaN</th>\n",
              "      <th>Kinder's</th>\n",
              "      <th>kinder-s</th>\n",
              "      <th>NaN</th>\n",
              "      <th>NaN</th>\n",
              "      <th>NaN</th>\n",
              "      <th>NaN</th>\n",
              "      <th>NaN</th>\n",
              "      <th>NaN</th>\n",
              "      <th>NaN</th>\n",
              "      <th>NaN</th>\n",
              "      <th>NaN</th>\n",
              "      <th>NaN</th>\n",
              "      <th>NaN</th>\n",
              "      <th>NaN</th>\n",
              "      <th>NaN</th>\n",
              "      <th>NaN</th>\n",
              "      <th>NaN</th>\n",
              "      <th>NaN</th>\n",
              "      <th>NaN</th>\n",
              "      <th>US</th>\n",
              "      <th>en:united-states</th>\n",
              "      <th>United States</th>\n",
              "      <th>Tomato puree (water tomato paste), dark brown sugar, white vinegar, sugar, natural hickory smoke flavor, salt, roasted garlic, corn starch, worcesteshire sauce (vinegar water, molasses, corn syrup, salt, caramel color, sugar, tamarind, spices, garlic powder, onion powder, crusted red peppers, xanthan gum (a natural thicker).</th>\n",
              "      <th>NaN</th>\n",
              "      <th>NaN</th>\n",
              "      <th>NaN</th>\n",
              "      <th>NaN</th>\n",
              "      <th>NaN</th>\n",
              "      <th>34 g (2 Tbsp)</th>\n",
              "      <th>NaN</th>\n",
              "      <th>2.0</th>\n",
              "      <td>[ tomato-puree -&gt; en:tomato-puree  ]  [ puree...</td>\n",
              "      <td>en:e150a,en:e415</td>\n",
              "      <td>E150a - Plain caramel,E415 - Xanthan gum</td>\n",
              "      <td>0.0</td>\n",
              "      <td>NaN</td>\n",
              "      <td>NaN</td>\n",
              "      <td>0.0</td>\n",
              "      <td>NaN</td>\n",
              "      <td>NaN</td>\n",
              "      <td>NaN</td>\n",
              "      <td>...</td>\n",
              "      <td>NaN</td>\n",
              "      <td>NaN</td>\n",
              "      <td>NaN</td>\n",
              "      <td>NaN</td>\n",
              "      <td>NaN</td>\n",
              "      <td>NaN</td>\n",
              "      <td>16.0</td>\n",
              "      <td>16.0</td>\n",
              "      <td>NaN</td>\n",
              "      <td>NaN</td>\n",
              "    </tr>\n",
              "  </tbody>\n",
              "</table>\n",
              "<p>5 rows × 120 columns</p>\n",
              "</div>\n",
              "    <div class=\"colab-df-buttons\">\n",
              "\n",
              "  <div class=\"colab-df-container\">\n",
              "    <button class=\"colab-df-convert\" onclick=\"convertToInteractive('df-e6d6d657-eda4-43fa-bb38-1bfa4fb1aed0')\"\n",
              "            title=\"Convert this dataframe to an interactive table.\"\n",
              "            style=\"display:none;\">\n",
              "\n",
              "  <svg xmlns=\"http://www.w3.org/2000/svg\" height=\"24px\" viewBox=\"0 -960 960 960\">\n",
              "    <path d=\"M120-120v-720h720v720H120Zm60-500h600v-160H180v160Zm220 220h160v-160H400v160Zm0 220h160v-160H400v160ZM180-400h160v-160H180v160Zm440 0h160v-160H620v160ZM180-180h160v-160H180v160Zm440 0h160v-160H620v160Z\"/>\n",
              "  </svg>\n",
              "    </button>\n",
              "\n",
              "  <style>\n",
              "    .colab-df-container {\n",
              "      display:flex;\n",
              "      gap: 12px;\n",
              "    }\n",
              "\n",
              "    .colab-df-convert {\n",
              "      background-color: #E8F0FE;\n",
              "      border: none;\n",
              "      border-radius: 50%;\n",
              "      cursor: pointer;\n",
              "      display: none;\n",
              "      fill: #1967D2;\n",
              "      height: 32px;\n",
              "      padding: 0 0 0 0;\n",
              "      width: 32px;\n",
              "    }\n",
              "\n",
              "    .colab-df-convert:hover {\n",
              "      background-color: #E2EBFA;\n",
              "      box-shadow: 0px 1px 2px rgba(60, 64, 67, 0.3), 0px 1px 3px 1px rgba(60, 64, 67, 0.15);\n",
              "      fill: #174EA6;\n",
              "    }\n",
              "\n",
              "    .colab-df-buttons div {\n",
              "      margin-bottom: 4px;\n",
              "    }\n",
              "\n",
              "    [theme=dark] .colab-df-convert {\n",
              "      background-color: #3B4455;\n",
              "      fill: #D2E3FC;\n",
              "    }\n",
              "\n",
              "    [theme=dark] .colab-df-convert:hover {\n",
              "      background-color: #434B5C;\n",
              "      box-shadow: 0px 1px 3px 1px rgba(0, 0, 0, 0.15);\n",
              "      filter: drop-shadow(0px 1px 2px rgba(0, 0, 0, 0.3));\n",
              "      fill: #FFFFFF;\n",
              "    }\n",
              "  </style>\n",
              "\n",
              "    <script>\n",
              "      const buttonEl =\n",
              "        document.querySelector('#df-e6d6d657-eda4-43fa-bb38-1bfa4fb1aed0 button.colab-df-convert');\n",
              "      buttonEl.style.display =\n",
              "        google.colab.kernel.accessAllowed ? 'block' : 'none';\n",
              "\n",
              "      async function convertToInteractive(key) {\n",
              "        const element = document.querySelector('#df-e6d6d657-eda4-43fa-bb38-1bfa4fb1aed0');\n",
              "        const dataTable =\n",
              "          await google.colab.kernel.invokeFunction('convertToInteractive',\n",
              "                                                    [key], {});\n",
              "        if (!dataTable) return;\n",
              "\n",
              "        const docLinkHtml = 'Like what you see? Visit the ' +\n",
              "          '<a target=\"_blank\" href=https://colab.research.google.com/notebooks/data_table.ipynb>data table notebook</a>'\n",
              "          + ' to learn more about interactive tables.';\n",
              "        element.innerHTML = '';\n",
              "        dataTable['output_type'] = 'display_data';\n",
              "        await google.colab.output.renderOutput(dataTable, element);\n",
              "        const docLink = document.createElement('div');\n",
              "        docLink.innerHTML = docLinkHtml;\n",
              "        element.appendChild(docLink);\n",
              "      }\n",
              "    </script>\n",
              "  </div>\n",
              "\n",
              "\n",
              "<div id=\"df-31a531b8-cf4b-46e1-9f75-b631611dbbee\">\n",
              "  <button class=\"colab-df-quickchart\" onclick=\"quickchart('df-31a531b8-cf4b-46e1-9f75-b631611dbbee')\"\n",
              "            title=\"Suggest charts\"\n",
              "            style=\"display:none;\">\n",
              "\n",
              "<svg xmlns=\"http://www.w3.org/2000/svg\" height=\"24px\"viewBox=\"0 0 24 24\"\n",
              "     width=\"24px\">\n",
              "    <g>\n",
              "        <path d=\"M19 3H5c-1.1 0-2 .9-2 2v14c0 1.1.9 2 2 2h14c1.1 0 2-.9 2-2V5c0-1.1-.9-2-2-2zM9 17H7v-7h2v7zm4 0h-2V7h2v10zm4 0h-2v-4h2v4z\"/>\n",
              "    </g>\n",
              "</svg>\n",
              "  </button>\n",
              "\n",
              "<style>\n",
              "  .colab-df-quickchart {\n",
              "      --bg-color: #E8F0FE;\n",
              "      --fill-color: #1967D2;\n",
              "      --hover-bg-color: #E2EBFA;\n",
              "      --hover-fill-color: #174EA6;\n",
              "      --disabled-fill-color: #AAA;\n",
              "      --disabled-bg-color: #DDD;\n",
              "  }\n",
              "\n",
              "  [theme=dark] .colab-df-quickchart {\n",
              "      --bg-color: #3B4455;\n",
              "      --fill-color: #D2E3FC;\n",
              "      --hover-bg-color: #434B5C;\n",
              "      --hover-fill-color: #FFFFFF;\n",
              "      --disabled-bg-color: #3B4455;\n",
              "      --disabled-fill-color: #666;\n",
              "  }\n",
              "\n",
              "  .colab-df-quickchart {\n",
              "    background-color: var(--bg-color);\n",
              "    border: none;\n",
              "    border-radius: 50%;\n",
              "    cursor: pointer;\n",
              "    display: none;\n",
              "    fill: var(--fill-color);\n",
              "    height: 32px;\n",
              "    padding: 0;\n",
              "    width: 32px;\n",
              "  }\n",
              "\n",
              "  .colab-df-quickchart:hover {\n",
              "    background-color: var(--hover-bg-color);\n",
              "    box-shadow: 0 1px 2px rgba(60, 64, 67, 0.3), 0 1px 3px 1px rgba(60, 64, 67, 0.15);\n",
              "    fill: var(--button-hover-fill-color);\n",
              "  }\n",
              "\n",
              "  .colab-df-quickchart-complete:disabled,\n",
              "  .colab-df-quickchart-complete:disabled:hover {\n",
              "    background-color: var(--disabled-bg-color);\n",
              "    fill: var(--disabled-fill-color);\n",
              "    box-shadow: none;\n",
              "  }\n",
              "\n",
              "  .colab-df-spinner {\n",
              "    border: 2px solid var(--fill-color);\n",
              "    border-color: transparent;\n",
              "    border-bottom-color: var(--fill-color);\n",
              "    animation:\n",
              "      spin 1s steps(1) infinite;\n",
              "  }\n",
              "\n",
              "  @keyframes spin {\n",
              "    0% {\n",
              "      border-color: transparent;\n",
              "      border-bottom-color: var(--fill-color);\n",
              "      border-left-color: var(--fill-color);\n",
              "    }\n",
              "    20% {\n",
              "      border-color: transparent;\n",
              "      border-left-color: var(--fill-color);\n",
              "      border-top-color: var(--fill-color);\n",
              "    }\n",
              "    30% {\n",
              "      border-color: transparent;\n",
              "      border-left-color: var(--fill-color);\n",
              "      border-top-color: var(--fill-color);\n",
              "      border-right-color: var(--fill-color);\n",
              "    }\n",
              "    40% {\n",
              "      border-color: transparent;\n",
              "      border-right-color: var(--fill-color);\n",
              "      border-top-color: var(--fill-color);\n",
              "    }\n",
              "    60% {\n",
              "      border-color: transparent;\n",
              "      border-right-color: var(--fill-color);\n",
              "    }\n",
              "    80% {\n",
              "      border-color: transparent;\n",
              "      border-right-color: var(--fill-color);\n",
              "      border-bottom-color: var(--fill-color);\n",
              "    }\n",
              "    90% {\n",
              "      border-color: transparent;\n",
              "      border-bottom-color: var(--fill-color);\n",
              "    }\n",
              "  }\n",
              "</style>\n",
              "\n",
              "  <script>\n",
              "    async function quickchart(key) {\n",
              "      const quickchartButtonEl =\n",
              "        document.querySelector('#' + key + ' button');\n",
              "      quickchartButtonEl.disabled = true;  // To prevent multiple clicks.\n",
              "      quickchartButtonEl.classList.add('colab-df-spinner');\n",
              "      try {\n",
              "        const charts = await google.colab.kernel.invokeFunction(\n",
              "            'suggestCharts', [key], {});\n",
              "      } catch (error) {\n",
              "        console.error('Error during call to suggestCharts:', error);\n",
              "      }\n",
              "      quickchartButtonEl.classList.remove('colab-df-spinner');\n",
              "      quickchartButtonEl.classList.add('colab-df-quickchart-complete');\n",
              "    }\n",
              "    (() => {\n",
              "      let quickchartButtonEl =\n",
              "        document.querySelector('#df-31a531b8-cf4b-46e1-9f75-b631611dbbee button');\n",
              "      quickchartButtonEl.style.display =\n",
              "        google.colab.kernel.accessAllowed ? 'block' : 'none';\n",
              "    })();\n",
              "  </script>\n",
              "</div>\n",
              "\n",
              "    </div>\n",
              "  </div>\n"
            ],
            "application/vnd.google.colaboratory.intrinsic+json": {
              "type": "dataframe",
              "variable_name": "food"
            }
          },
          "metadata": {},
          "execution_count": 33
        }
      ]
    },
    {
      "cell_type": "markdown",
      "metadata": {
        "id": "z0xRo6xFsC6x"
      },
      "source": [
        "### Step 5. What is the number of observations in the dataset?"
      ]
    },
    {
      "cell_type": "code",
      "execution_count": 4,
      "metadata": {
        "collapsed": true,
        "jupyter": {
          "outputs_hidden": true
        },
        "id": "ro9sL5agsC6x",
        "outputId": "f4047fd8-5eb1-422d-86fd-87228f7eb6b3",
        "colab": {
          "base_uri": "https://localhost:8080/"
        }
      },
      "outputs": [
        {
          "output_type": "stream",
          "name": "stdout",
          "text": [
            "number of observations:  8318\n"
          ]
        }
      ],
      "source": [
        "# 관측치 수 출력할 때 []\n",
        "\n",
        "num_observations = food.shape[0]\n",
        "\n",
        "print(\"number of observations: \", num_observations)"
      ]
    },
    {
      "cell_type": "markdown",
      "metadata": {
        "id": "cf5NBnO2sC6x"
      },
      "source": [
        "### Step 6. What is the number of columns in the dataset?"
      ]
    },
    {
      "cell_type": "code",
      "execution_count": 5,
      "metadata": {
        "collapsed": true,
        "jupyter": {
          "outputs_hidden": true
        },
        "id": "KYLur94RsC6x",
        "outputId": "117e929f-8c26-40e2-fcac-ee88d9427e3a",
        "colab": {
          "base_uri": "https://localhost:8080/"
        }
      },
      "outputs": [
        {
          "output_type": "stream",
          "name": "stdout",
          "text": [
            "number of columns:  163\n"
          ]
        }
      ],
      "source": [
        "# 칼럼 수 출력할 때도 [] -> 대신 0이 아니라 1을 써야함.\n",
        "\n",
        "num_columns = food.shape[1]\n",
        "\n",
        "print(\"number of columns: \", num_columns)"
      ]
    },
    {
      "cell_type": "markdown",
      "metadata": {
        "id": "dNgVdMxQsC6x"
      },
      "source": [
        "### Step 7. Print the name of all the columns."
      ]
    },
    {
      "cell_type": "code",
      "execution_count": 13,
      "metadata": {
        "collapsed": true,
        "jupyter": {
          "outputs_hidden": true
        },
        "id": "tnAFdc1nsC6x",
        "outputId": "6329ec06-290c-4364-82b0-8604d33a94c3",
        "colab": {
          "base_uri": "https://localhost:8080/"
        }
      },
      "outputs": [
        {
          "output_type": "stream",
          "name": "stdout",
          "text": [
            "name_columns: Index(['code', 'url', 'creator', 'created_t', 'created_datetime',\n",
            "       'last_modified_t', 'last_modified_datetime', 'product_name',\n",
            "       'generic_name', 'quantity',\n",
            "       ...\n",
            "       'fruits-vegetables-nuts_100g', 'fruits-vegetables-nuts-estimate_100g',\n",
            "       'collagen-meat-protein-ratio_100g', 'cocoa_100g', 'chlorophyl_100g',\n",
            "       'carbon-footprint_100g', 'nutrition-score-fr_100g',\n",
            "       'nutrition-score-uk_100g', 'glycemic-index_100g',\n",
            "       'water-hardness_100g'],\n",
            "      dtype='object', length=163)\n"
          ]
        }
      ],
      "source": [
        "name_columns = food.columns\n",
        "\n",
        "print(\"name_columns:\", food.columns)"
      ]
    },
    {
      "cell_type": "markdown",
      "metadata": {
        "id": "2sNBp9K7sC6x"
      },
      "source": [
        "### Step 8. What is the name of 105th column?"
      ]
    },
    {
      "cell_type": "code",
      "execution_count": 26,
      "metadata": {
        "collapsed": true,
        "jupyter": {
          "outputs_hidden": true
        },
        "id": "4bP8vqXTsC6x",
        "outputId": "bcea687f-e271-4969-b9c6-7353faced165",
        "colab": {
          "base_uri": "https://localhost:8080/",
          "height": 35
        }
      },
      "outputs": [
        {
          "output_type": "execute_result",
          "data": {
            "text/plain": [
              "'-glucose_100g'"
            ],
            "application/vnd.google.colaboratory.intrinsic+json": {
              "type": "string"
            }
          },
          "metadata": {},
          "execution_count": 26
        }
      ],
      "source": [
        "food.columns[104]"
      ]
    },
    {
      "cell_type": "markdown",
      "metadata": {
        "id": "zL247AafsC6x"
      },
      "source": [
        "### Step 9. What is the type of the observations of the 105th column?"
      ]
    },
    {
      "cell_type": "code",
      "execution_count": 28,
      "metadata": {
        "collapsed": true,
        "jupyter": {
          "outputs_hidden": true
        },
        "id": "-vytxL2WsC6x",
        "outputId": "988d243e-616b-4cf4-ce90-4fd625af6529",
        "colab": {
          "base_uri": "https://localhost:8080/"
        }
      },
      "outputs": [
        {
          "output_type": "execute_result",
          "data": {
            "text/plain": [
              "dtype('float64')"
            ]
          },
          "metadata": {},
          "execution_count": 28
        }
      ],
      "source": [
        "food.dtypes[104]"
      ]
    },
    {
      "cell_type": "markdown",
      "metadata": {
        "id": "xwWLwiN0sC6x"
      },
      "source": [
        "### Step 10. How is the dataset indexed?"
      ]
    },
    {
      "cell_type": "code",
      "execution_count": 29,
      "metadata": {
        "collapsed": true,
        "jupyter": {
          "outputs_hidden": true
        },
        "id": "mntJljgcsC6x",
        "outputId": "0f56f560-f181-4d94-da91-a3d7b622879f",
        "colab": {
          "base_uri": "https://localhost:8080/"
        }
      },
      "outputs": [
        {
          "output_type": "execute_result",
          "data": {
            "text/plain": [
              "RangeIndex(start=0, stop=8318, step=1)"
            ]
          },
          "metadata": {},
          "execution_count": 29
        }
      ],
      "source": [
        "food.index"
      ]
    },
    {
      "cell_type": "markdown",
      "metadata": {
        "id": "EF9r92JbsC6x"
      },
      "source": [
        "### Step 11. What is the product name of the 19th observation?"
      ]
    },
    {
      "cell_type": "code",
      "execution_count": 30,
      "metadata": {
        "collapsed": true,
        "jupyter": {
          "outputs_hidden": true
        },
        "id": "xc4sIxPwsC6x",
        "outputId": "207b0385-c45c-4f60-f776-28b5767d9cc0",
        "colab": {
          "base_uri": "https://localhost:8080/",
          "height": 35
        }
      },
      "outputs": [
        {
          "output_type": "execute_result",
          "data": {
            "text/plain": [
              "'Lotus Organic Brown Jasmine Rice'"
            ],
            "application/vnd.google.colaboratory.intrinsic+json": {
              "type": "string"
            }
          },
          "metadata": {},
          "execution_count": 30
        }
      ],
      "source": [
        "food.product_name[18]"
      ]
    },
    {
      "cell_type": "code",
      "source": [],
      "metadata": {
        "id": "k1l_xG_-D0Gf"
      },
      "execution_count": null,
      "outputs": []
    }
  ],
  "metadata": {
    "anaconda-cloud": {},
    "kernelspec": {
      "display_name": "Python 3 (ipykernel)",
      "language": "python",
      "name": "python3"
    },
    "language_info": {
      "codemirror_mode": {
        "name": "ipython",
        "version": 3
      },
      "file_extension": ".py",
      "mimetype": "text/x-python",
      "name": "python",
      "nbconvert_exporter": "python",
      "pygments_lexer": "ipython3",
      "version": "3.8.19"
    },
    "colab": {
      "provenance": []
    }
  },
  "nbformat": 4,
  "nbformat_minor": 0
}